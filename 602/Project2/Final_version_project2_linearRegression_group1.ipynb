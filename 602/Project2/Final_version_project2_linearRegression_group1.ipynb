{
  "nbformat": 4,
  "nbformat_minor": 0,
  "metadata": {
    "colab": {
      "name": "Final_version_project2-linearRegression-group1.ipynb",
      "provenance": [],
      "collapsed_sections": [],
      "include_colab_link": true
    },
    "kernelspec": {
      "name": "python3",
      "display_name": "Python 3"
    },
    "language_info": {
      "name": "python"
    }
  },
  "cells": [
    {
      "cell_type": "markdown",
      "metadata": {
        "id": "view-in-github",
        "colab_type": "text"
      },
      "source": [
        "<a href=\"https://colab.research.google.com/github/SepideHematian/my_course_projects/blob/main/602/Project2/Final_version_project2_linearRegression_group1.ipynb\" target=\"_parent\"><img src=\"https://colab.research.google.com/assets/colab-badge.svg\" alt=\"Open In Colab\"/></a>"
      ]
    },
    {
      "cell_type": "markdown",
      "source": [
        "## Project 2: Linear Regression\n",
        "Data602\n",
        "\n",
        "**Group A/1** This project has been done by the folllowing people:\n",
        "\n",
        "* Tahereh\tHematian Pour Fard \n",
        "* Kent\tButler\n",
        "* Leslie\tLi\n",
        "* Colleen\tBoarman\n"
      ],
      "metadata": {
        "id": "1K0Qzq2DMcWE"
      }
    },
    {
      "cell_type": "code",
      "source": [
        "import pandas as pd\n",
        "import numpy as np\n",
        "from sklearn.preprocessing import MinMaxScaler, OneHotEncoder, PolynomialFeatures\n",
        "from sklearn.linear_model import LinearRegression, HuberRegressor\n",
        "from sklearn.model_selection import train_test_split, KFold"
      ],
      "metadata": {
        "id": "GQtO1ik_L7Xt"
      },
      "execution_count": 3,
      "outputs": []
    },
    {
      "cell_type": "markdown",
      "source": [
        "# Part I:  Data Setup"
      ],
      "metadata": {
        "id": "xhI2_L-YcHFH"
      }
    },
    {
      "cell_type": "markdown",
      "source": [
        "**Load data**"
      ],
      "metadata": {
        "id": "2M6fWIaMcqwg"
      }
    },
    {
      "cell_type": "code",
      "execution_count": 4,
      "metadata": {
        "id": "KfIVXPV1L4nj"
      },
      "outputs": [],
      "source": [
        "df = pd.read_csv('https://archive.ics.uci.edu/ml/machine-learning-databases/00397/LasVegasTripAdvisorReviews-Dataset.csv',delimiter=';')"
      ]
    },
    {
      "cell_type": "markdown",
      "source": [
        "**Examine data**"
      ],
      "metadata": {
        "id": "rEJErlMh275N"
      }
    },
    {
      "cell_type": "code",
      "source": [
        "df.shape"
      ],
      "metadata": {
        "colab": {
          "base_uri": "https://localhost:8080/"
        },
        "id": "iMHVtSgyyV28",
        "outputId": "11d9d7f0-a7f9-4bed-f589-e0a5f4412113"
      },
      "execution_count": 5,
      "outputs": [
        {
          "output_type": "execute_result",
          "data": {
            "text/plain": [
              "(504, 20)"
            ]
          },
          "metadata": {},
          "execution_count": 5
        }
      ]
    },
    {
      "cell_type": "code",
      "source": [
        "df.head(3)"
      ],
      "metadata": {
        "colab": {
          "base_uri": "https://localhost:8080/",
          "height": 554
        },
        "id": "PWeVAEEPMb32",
        "outputId": "caef7f81-6b19-4725-ecef-c780b5a8ca4e"
      },
      "execution_count": 6,
      "outputs": [
        {
          "output_type": "execute_result",
          "data": {
            "text/plain": [
              "  User country  Nr. reviews  Nr. hotel reviews  Helpful votes  Score  \\\n",
              "0          USA           11                  4             13      5   \n",
              "1          USA          119                 21             75      3   \n",
              "2          USA           36                  9             25      5   \n",
              "\n",
              "  Period of stay Traveler type Pool  Gym Tennis court Spa Casino  \\\n",
              "0        Dec-Feb       Friends   NO  YES           NO  NO    YES   \n",
              "1        Dec-Feb      Business   NO  YES           NO  NO    YES   \n",
              "2        Mar-May      Families   NO  YES           NO  NO    YES   \n",
              "\n",
              "  Free internet                              Hotel name Hotel stars  \\\n",
              "0           YES  Circus Circus Hotel & Casino Las Vegas           3   \n",
              "1           YES  Circus Circus Hotel & Casino Las Vegas           3   \n",
              "2           YES  Circus Circus Hotel & Casino Las Vegas           3   \n",
              "\n",
              "   Nr. rooms User continent  Member years Review month Review weekday  \n",
              "0       3773  North America             9      January       Thursday  \n",
              "1       3773  North America             3      January         Friday  \n",
              "2       3773  North America             2     February       Saturday  "
            ],
            "text/html": [
              "\n",
              "  <div id=\"df-4587b185-c98e-4269-a723-ad259da6473f\">\n",
              "    <div class=\"colab-df-container\">\n",
              "      <div>\n",
              "<style scoped>\n",
              "    .dataframe tbody tr th:only-of-type {\n",
              "        vertical-align: middle;\n",
              "    }\n",
              "\n",
              "    .dataframe tbody tr th {\n",
              "        vertical-align: top;\n",
              "    }\n",
              "\n",
              "    .dataframe thead th {\n",
              "        text-align: right;\n",
              "    }\n",
              "</style>\n",
              "<table border=\"1\" class=\"dataframe\">\n",
              "  <thead>\n",
              "    <tr style=\"text-align: right;\">\n",
              "      <th></th>\n",
              "      <th>User country</th>\n",
              "      <th>Nr. reviews</th>\n",
              "      <th>Nr. hotel reviews</th>\n",
              "      <th>Helpful votes</th>\n",
              "      <th>Score</th>\n",
              "      <th>Period of stay</th>\n",
              "      <th>Traveler type</th>\n",
              "      <th>Pool</th>\n",
              "      <th>Gym</th>\n",
              "      <th>Tennis court</th>\n",
              "      <th>Spa</th>\n",
              "      <th>Casino</th>\n",
              "      <th>Free internet</th>\n",
              "      <th>Hotel name</th>\n",
              "      <th>Hotel stars</th>\n",
              "      <th>Nr. rooms</th>\n",
              "      <th>User continent</th>\n",
              "      <th>Member years</th>\n",
              "      <th>Review month</th>\n",
              "      <th>Review weekday</th>\n",
              "    </tr>\n",
              "  </thead>\n",
              "  <tbody>\n",
              "    <tr>\n",
              "      <th>0</th>\n",
              "      <td>USA</td>\n",
              "      <td>11</td>\n",
              "      <td>4</td>\n",
              "      <td>13</td>\n",
              "      <td>5</td>\n",
              "      <td>Dec-Feb</td>\n",
              "      <td>Friends</td>\n",
              "      <td>NO</td>\n",
              "      <td>YES</td>\n",
              "      <td>NO</td>\n",
              "      <td>NO</td>\n",
              "      <td>YES</td>\n",
              "      <td>YES</td>\n",
              "      <td>Circus Circus Hotel &amp; Casino Las Vegas</td>\n",
              "      <td>3</td>\n",
              "      <td>3773</td>\n",
              "      <td>North America</td>\n",
              "      <td>9</td>\n",
              "      <td>January</td>\n",
              "      <td>Thursday</td>\n",
              "    </tr>\n",
              "    <tr>\n",
              "      <th>1</th>\n",
              "      <td>USA</td>\n",
              "      <td>119</td>\n",
              "      <td>21</td>\n",
              "      <td>75</td>\n",
              "      <td>3</td>\n",
              "      <td>Dec-Feb</td>\n",
              "      <td>Business</td>\n",
              "      <td>NO</td>\n",
              "      <td>YES</td>\n",
              "      <td>NO</td>\n",
              "      <td>NO</td>\n",
              "      <td>YES</td>\n",
              "      <td>YES</td>\n",
              "      <td>Circus Circus Hotel &amp; Casino Las Vegas</td>\n",
              "      <td>3</td>\n",
              "      <td>3773</td>\n",
              "      <td>North America</td>\n",
              "      <td>3</td>\n",
              "      <td>January</td>\n",
              "      <td>Friday</td>\n",
              "    </tr>\n",
              "    <tr>\n",
              "      <th>2</th>\n",
              "      <td>USA</td>\n",
              "      <td>36</td>\n",
              "      <td>9</td>\n",
              "      <td>25</td>\n",
              "      <td>5</td>\n",
              "      <td>Mar-May</td>\n",
              "      <td>Families</td>\n",
              "      <td>NO</td>\n",
              "      <td>YES</td>\n",
              "      <td>NO</td>\n",
              "      <td>NO</td>\n",
              "      <td>YES</td>\n",
              "      <td>YES</td>\n",
              "      <td>Circus Circus Hotel &amp; Casino Las Vegas</td>\n",
              "      <td>3</td>\n",
              "      <td>3773</td>\n",
              "      <td>North America</td>\n",
              "      <td>2</td>\n",
              "      <td>February</td>\n",
              "      <td>Saturday</td>\n",
              "    </tr>\n",
              "  </tbody>\n",
              "</table>\n",
              "</div>\n",
              "      <button class=\"colab-df-convert\" onclick=\"convertToInteractive('df-4587b185-c98e-4269-a723-ad259da6473f')\"\n",
              "              title=\"Convert this dataframe to an interactive table.\"\n",
              "              style=\"display:none;\">\n",
              "        \n",
              "  <svg xmlns=\"http://www.w3.org/2000/svg\" height=\"24px\"viewBox=\"0 0 24 24\"\n",
              "       width=\"24px\">\n",
              "    <path d=\"M0 0h24v24H0V0z\" fill=\"none\"/>\n",
              "    <path d=\"M18.56 5.44l.94 2.06.94-2.06 2.06-.94-2.06-.94-.94-2.06-.94 2.06-2.06.94zm-11 1L8.5 8.5l.94-2.06 2.06-.94-2.06-.94L8.5 2.5l-.94 2.06-2.06.94zm10 10l.94 2.06.94-2.06 2.06-.94-2.06-.94-.94-2.06-.94 2.06-2.06.94z\"/><path d=\"M17.41 7.96l-1.37-1.37c-.4-.4-.92-.59-1.43-.59-.52 0-1.04.2-1.43.59L10.3 9.45l-7.72 7.72c-.78.78-.78 2.05 0 2.83L4 21.41c.39.39.9.59 1.41.59.51 0 1.02-.2 1.41-.59l7.78-7.78 2.81-2.81c.8-.78.8-2.07 0-2.86zM5.41 20L4 18.59l7.72-7.72 1.47 1.35L5.41 20z\"/>\n",
              "  </svg>\n",
              "      </button>\n",
              "      \n",
              "  <style>\n",
              "    .colab-df-container {\n",
              "      display:flex;\n",
              "      flex-wrap:wrap;\n",
              "      gap: 12px;\n",
              "    }\n",
              "\n",
              "    .colab-df-convert {\n",
              "      background-color: #E8F0FE;\n",
              "      border: none;\n",
              "      border-radius: 50%;\n",
              "      cursor: pointer;\n",
              "      display: none;\n",
              "      fill: #1967D2;\n",
              "      height: 32px;\n",
              "      padding: 0 0 0 0;\n",
              "      width: 32px;\n",
              "    }\n",
              "\n",
              "    .colab-df-convert:hover {\n",
              "      background-color: #E2EBFA;\n",
              "      box-shadow: 0px 1px 2px rgba(60, 64, 67, 0.3), 0px 1px 3px 1px rgba(60, 64, 67, 0.15);\n",
              "      fill: #174EA6;\n",
              "    }\n",
              "\n",
              "    [theme=dark] .colab-df-convert {\n",
              "      background-color: #3B4455;\n",
              "      fill: #D2E3FC;\n",
              "    }\n",
              "\n",
              "    [theme=dark] .colab-df-convert:hover {\n",
              "      background-color: #434B5C;\n",
              "      box-shadow: 0px 1px 3px 1px rgba(0, 0, 0, 0.15);\n",
              "      filter: drop-shadow(0px 1px 2px rgba(0, 0, 0, 0.3));\n",
              "      fill: #FFFFFF;\n",
              "    }\n",
              "  </style>\n",
              "\n",
              "      <script>\n",
              "        const buttonEl =\n",
              "          document.querySelector('#df-4587b185-c98e-4269-a723-ad259da6473f button.colab-df-convert');\n",
              "        buttonEl.style.display =\n",
              "          google.colab.kernel.accessAllowed ? 'block' : 'none';\n",
              "\n",
              "        async function convertToInteractive(key) {\n",
              "          const element = document.querySelector('#df-4587b185-c98e-4269-a723-ad259da6473f');\n",
              "          const dataTable =\n",
              "            await google.colab.kernel.invokeFunction('convertToInteractive',\n",
              "                                                     [key], {});\n",
              "          if (!dataTable) return;\n",
              "\n",
              "          const docLinkHtml = 'Like what you see? Visit the ' +\n",
              "            '<a target=\"_blank\" href=https://colab.research.google.com/notebooks/data_table.ipynb>data table notebook</a>'\n",
              "            + ' to learn more about interactive tables.';\n",
              "          element.innerHTML = '';\n",
              "          dataTable['output_type'] = 'display_data';\n",
              "          await google.colab.output.renderOutput(dataTable, element);\n",
              "          const docLink = document.createElement('div');\n",
              "          docLink.innerHTML = docLinkHtml;\n",
              "          element.appendChild(docLink);\n",
              "        }\n",
              "      </script>\n",
              "    </div>\n",
              "  </div>\n",
              "  "
            ]
          },
          "metadata": {},
          "execution_count": 6
        }
      ]
    },
    {
      "cell_type": "code",
      "source": [
        "df.dtypes"
      ],
      "metadata": {
        "colab": {
          "base_uri": "https://localhost:8080/"
        },
        "id": "J9O7AcuWy64k",
        "outputId": "a69a1f08-5214-461f-ed42-4975be63a780"
      },
      "execution_count": 7,
      "outputs": [
        {
          "output_type": "execute_result",
          "data": {
            "text/plain": [
              "User country         object\n",
              "Nr. reviews           int64\n",
              "Nr. hotel reviews     int64\n",
              "Helpful votes         int64\n",
              "Score                 int64\n",
              "Period of stay       object\n",
              "Traveler type        object\n",
              "Pool                 object\n",
              "Gym                  object\n",
              "Tennis court         object\n",
              "Spa                  object\n",
              "Casino               object\n",
              "Free internet        object\n",
              "Hotel name           object\n",
              "Hotel stars          object\n",
              "Nr. rooms             int64\n",
              "User continent       object\n",
              "Member years          int64\n",
              "Review month         object\n",
              "Review weekday       object\n",
              "dtype: object"
            ]
          },
          "metadata": {},
          "execution_count": 7
        }
      ]
    },
    {
      "cell_type": "code",
      "source": [
        "# Identify original data types\n",
        "numerics = ['Nr. reviews', 'Nr. hotel reviews', 'Helpful votes', 'Member years', 'Nr. rooms']\n",
        "alphas = ['User country', 'Period of stay', 'Traveler type', 'Pool', 'Gym', 'Tennis court', 'Spa', 'Casino', \n",
        "          'Free internet', 'Hotel name', 'Hotel stars', 'User continent', 'Review month', 'Review weekday']"
      ],
      "metadata": {
        "id": "XD9MPJcU3Ozk"
      },
      "execution_count": 8,
      "outputs": []
    },
    {
      "cell_type": "code",
      "source": [
        "df.columns"
      ],
      "metadata": {
        "colab": {
          "base_uri": "https://localhost:8080/"
        },
        "id": "QYw1fddzM6Tf",
        "outputId": "2e4ec907-1ef8-49b1-d235-17e413460cb6"
      },
      "execution_count": 9,
      "outputs": [
        {
          "output_type": "execute_result",
          "data": {
            "text/plain": [
              "Index(['User country', 'Nr. reviews', 'Nr. hotel reviews', 'Helpful votes',\n",
              "       'Score', 'Period of stay', 'Traveler type', 'Pool', 'Gym',\n",
              "       'Tennis court', 'Spa', 'Casino', 'Free internet', 'Hotel name',\n",
              "       'Hotel stars', 'Nr. rooms', 'User continent', 'Member years',\n",
              "       'Review month', 'Review weekday'],\n",
              "      dtype='object')"
            ]
          },
          "metadata": {},
          "execution_count": 9
        }
      ]
    },
    {
      "cell_type": "code",
      "source": [
        "# Check for missing data\n",
        "for col in df.columns:\n",
        "  if df[col].hasnans:\n",
        "    print(df[col])"
      ],
      "metadata": {
        "id": "JsbVLMg2Hr_7"
      },
      "execution_count": 10,
      "outputs": []
    },
    {
      "cell_type": "code",
      "source": [
        "# Check scope of int data\n",
        "df.describe()"
      ],
      "metadata": {
        "colab": {
          "base_uri": "https://localhost:8080/",
          "height": 300
        },
        "id": "HtWJNhktyni0",
        "outputId": "b204d12b-3a02-4b52-bd2d-6e6dcfd9d25c"
      },
      "execution_count": 11,
      "outputs": [
        {
          "output_type": "execute_result",
          "data": {
            "text/plain": [
              "       Nr. reviews  Nr. hotel reviews  Helpful votes       Score    Nr. rooms  \\\n",
              "count   504.000000         504.000000     504.000000  504.000000   504.000000   \n",
              "mean     48.130952          16.023810      31.751984    4.123016  2196.380952   \n",
              "std      74.996426          23.957953      48.520783    1.007302  1285.476807   \n",
              "min       1.000000           0.000000       0.000000    1.000000   188.000000   \n",
              "25%      12.000000           5.000000       8.000000    4.000000   826.000000   \n",
              "50%      23.500000           9.000000      16.000000    4.000000  2700.000000   \n",
              "75%      54.250000          18.000000      35.000000    5.000000  3025.000000   \n",
              "max     775.000000         263.000000     365.000000    5.000000  4027.000000   \n",
              "\n",
              "       Member years  \n",
              "count    504.000000  \n",
              "mean       0.767857  \n",
              "std       80.692897  \n",
              "min    -1806.000000  \n",
              "25%        2.000000  \n",
              "50%        4.000000  \n",
              "75%        6.000000  \n",
              "max       13.000000  "
            ],
            "text/html": [
              "\n",
              "  <div id=\"df-7532c84c-034d-442f-a864-2277b57f1dd6\">\n",
              "    <div class=\"colab-df-container\">\n",
              "      <div>\n",
              "<style scoped>\n",
              "    .dataframe tbody tr th:only-of-type {\n",
              "        vertical-align: middle;\n",
              "    }\n",
              "\n",
              "    .dataframe tbody tr th {\n",
              "        vertical-align: top;\n",
              "    }\n",
              "\n",
              "    .dataframe thead th {\n",
              "        text-align: right;\n",
              "    }\n",
              "</style>\n",
              "<table border=\"1\" class=\"dataframe\">\n",
              "  <thead>\n",
              "    <tr style=\"text-align: right;\">\n",
              "      <th></th>\n",
              "      <th>Nr. reviews</th>\n",
              "      <th>Nr. hotel reviews</th>\n",
              "      <th>Helpful votes</th>\n",
              "      <th>Score</th>\n",
              "      <th>Nr. rooms</th>\n",
              "      <th>Member years</th>\n",
              "    </tr>\n",
              "  </thead>\n",
              "  <tbody>\n",
              "    <tr>\n",
              "      <th>count</th>\n",
              "      <td>504.000000</td>\n",
              "      <td>504.000000</td>\n",
              "      <td>504.000000</td>\n",
              "      <td>504.000000</td>\n",
              "      <td>504.000000</td>\n",
              "      <td>504.000000</td>\n",
              "    </tr>\n",
              "    <tr>\n",
              "      <th>mean</th>\n",
              "      <td>48.130952</td>\n",
              "      <td>16.023810</td>\n",
              "      <td>31.751984</td>\n",
              "      <td>4.123016</td>\n",
              "      <td>2196.380952</td>\n",
              "      <td>0.767857</td>\n",
              "    </tr>\n",
              "    <tr>\n",
              "      <th>std</th>\n",
              "      <td>74.996426</td>\n",
              "      <td>23.957953</td>\n",
              "      <td>48.520783</td>\n",
              "      <td>1.007302</td>\n",
              "      <td>1285.476807</td>\n",
              "      <td>80.692897</td>\n",
              "    </tr>\n",
              "    <tr>\n",
              "      <th>min</th>\n",
              "      <td>1.000000</td>\n",
              "      <td>0.000000</td>\n",
              "      <td>0.000000</td>\n",
              "      <td>1.000000</td>\n",
              "      <td>188.000000</td>\n",
              "      <td>-1806.000000</td>\n",
              "    </tr>\n",
              "    <tr>\n",
              "      <th>25%</th>\n",
              "      <td>12.000000</td>\n",
              "      <td>5.000000</td>\n",
              "      <td>8.000000</td>\n",
              "      <td>4.000000</td>\n",
              "      <td>826.000000</td>\n",
              "      <td>2.000000</td>\n",
              "    </tr>\n",
              "    <tr>\n",
              "      <th>50%</th>\n",
              "      <td>23.500000</td>\n",
              "      <td>9.000000</td>\n",
              "      <td>16.000000</td>\n",
              "      <td>4.000000</td>\n",
              "      <td>2700.000000</td>\n",
              "      <td>4.000000</td>\n",
              "    </tr>\n",
              "    <tr>\n",
              "      <th>75%</th>\n",
              "      <td>54.250000</td>\n",
              "      <td>18.000000</td>\n",
              "      <td>35.000000</td>\n",
              "      <td>5.000000</td>\n",
              "      <td>3025.000000</td>\n",
              "      <td>6.000000</td>\n",
              "    </tr>\n",
              "    <tr>\n",
              "      <th>max</th>\n",
              "      <td>775.000000</td>\n",
              "      <td>263.000000</td>\n",
              "      <td>365.000000</td>\n",
              "      <td>5.000000</td>\n",
              "      <td>4027.000000</td>\n",
              "      <td>13.000000</td>\n",
              "    </tr>\n",
              "  </tbody>\n",
              "</table>\n",
              "</div>\n",
              "      <button class=\"colab-df-convert\" onclick=\"convertToInteractive('df-7532c84c-034d-442f-a864-2277b57f1dd6')\"\n",
              "              title=\"Convert this dataframe to an interactive table.\"\n",
              "              style=\"display:none;\">\n",
              "        \n",
              "  <svg xmlns=\"http://www.w3.org/2000/svg\" height=\"24px\"viewBox=\"0 0 24 24\"\n",
              "       width=\"24px\">\n",
              "    <path d=\"M0 0h24v24H0V0z\" fill=\"none\"/>\n",
              "    <path d=\"M18.56 5.44l.94 2.06.94-2.06 2.06-.94-2.06-.94-.94-2.06-.94 2.06-2.06.94zm-11 1L8.5 8.5l.94-2.06 2.06-.94-2.06-.94L8.5 2.5l-.94 2.06-2.06.94zm10 10l.94 2.06.94-2.06 2.06-.94-2.06-.94-.94-2.06-.94 2.06-2.06.94z\"/><path d=\"M17.41 7.96l-1.37-1.37c-.4-.4-.92-.59-1.43-.59-.52 0-1.04.2-1.43.59L10.3 9.45l-7.72 7.72c-.78.78-.78 2.05 0 2.83L4 21.41c.39.39.9.59 1.41.59.51 0 1.02-.2 1.41-.59l7.78-7.78 2.81-2.81c.8-.78.8-2.07 0-2.86zM5.41 20L4 18.59l7.72-7.72 1.47 1.35L5.41 20z\"/>\n",
              "  </svg>\n",
              "      </button>\n",
              "      \n",
              "  <style>\n",
              "    .colab-df-container {\n",
              "      display:flex;\n",
              "      flex-wrap:wrap;\n",
              "      gap: 12px;\n",
              "    }\n",
              "\n",
              "    .colab-df-convert {\n",
              "      background-color: #E8F0FE;\n",
              "      border: none;\n",
              "      border-radius: 50%;\n",
              "      cursor: pointer;\n",
              "      display: none;\n",
              "      fill: #1967D2;\n",
              "      height: 32px;\n",
              "      padding: 0 0 0 0;\n",
              "      width: 32px;\n",
              "    }\n",
              "\n",
              "    .colab-df-convert:hover {\n",
              "      background-color: #E2EBFA;\n",
              "      box-shadow: 0px 1px 2px rgba(60, 64, 67, 0.3), 0px 1px 3px 1px rgba(60, 64, 67, 0.15);\n",
              "      fill: #174EA6;\n",
              "    }\n",
              "\n",
              "    [theme=dark] .colab-df-convert {\n",
              "      background-color: #3B4455;\n",
              "      fill: #D2E3FC;\n",
              "    }\n",
              "\n",
              "    [theme=dark] .colab-df-convert:hover {\n",
              "      background-color: #434B5C;\n",
              "      box-shadow: 0px 1px 3px 1px rgba(0, 0, 0, 0.15);\n",
              "      filter: drop-shadow(0px 1px 2px rgba(0, 0, 0, 0.3));\n",
              "      fill: #FFFFFF;\n",
              "    }\n",
              "  </style>\n",
              "\n",
              "      <script>\n",
              "        const buttonEl =\n",
              "          document.querySelector('#df-7532c84c-034d-442f-a864-2277b57f1dd6 button.colab-df-convert');\n",
              "        buttonEl.style.display =\n",
              "          google.colab.kernel.accessAllowed ? 'block' : 'none';\n",
              "\n",
              "        async function convertToInteractive(key) {\n",
              "          const element = document.querySelector('#df-7532c84c-034d-442f-a864-2277b57f1dd6');\n",
              "          const dataTable =\n",
              "            await google.colab.kernel.invokeFunction('convertToInteractive',\n",
              "                                                     [key], {});\n",
              "          if (!dataTable) return;\n",
              "\n",
              "          const docLinkHtml = 'Like what you see? Visit the ' +\n",
              "            '<a target=\"_blank\" href=https://colab.research.google.com/notebooks/data_table.ipynb>data table notebook</a>'\n",
              "            + ' to learn more about interactive tables.';\n",
              "          element.innerHTML = '';\n",
              "          dataTable['output_type'] = 'display_data';\n",
              "          await google.colab.output.renderOutput(dataTable, element);\n",
              "          const docLink = document.createElement('div');\n",
              "          docLink.innerHTML = docLinkHtml;\n",
              "          element.appendChild(docLink);\n",
              "        }\n",
              "      </script>\n",
              "    </div>\n",
              "  </div>\n",
              "  "
            ]
          },
          "metadata": {},
          "execution_count": 11
        }
      ]
    },
    {
      "cell_type": "code",
      "source": [
        "# Remove anomalies in 'Member years' - values less than zero\n",
        "df.loc[df['Member years'] < 0, 'Member years'] = 0"
      ],
      "metadata": {
        "id": "9r1sIKAbFM4F"
      },
      "execution_count": 12,
      "outputs": []
    },
    {
      "cell_type": "code",
      "source": [
        "# Ensure member year anomaly is resolved\n",
        "df [df['Member years'] < 0]"
      ],
      "metadata": {
        "colab": {
          "base_uri": "https://localhost:8080/",
          "height": 128
        },
        "id": "h4Q8HJOT-h_o",
        "outputId": "50d79e8a-7c73-4455-fdc2-33fdc288a43c"
      },
      "execution_count": 13,
      "outputs": [
        {
          "output_type": "execute_result",
          "data": {
            "text/plain": [
              "Empty DataFrame\n",
              "Columns: [User country, Nr. reviews, Nr. hotel reviews, Helpful votes, Score, Period of stay, Traveler type, Pool, Gym, Tennis court, Spa, Casino, Free internet, Hotel name, Hotel stars, Nr. rooms, User continent, Member years, Review month, Review weekday]\n",
              "Index: []"
            ],
            "text/html": [
              "\n",
              "  <div id=\"df-d07293fd-5125-4b0a-9a4b-6ab4995fcc9e\">\n",
              "    <div class=\"colab-df-container\">\n",
              "      <div>\n",
              "<style scoped>\n",
              "    .dataframe tbody tr th:only-of-type {\n",
              "        vertical-align: middle;\n",
              "    }\n",
              "\n",
              "    .dataframe tbody tr th {\n",
              "        vertical-align: top;\n",
              "    }\n",
              "\n",
              "    .dataframe thead th {\n",
              "        text-align: right;\n",
              "    }\n",
              "</style>\n",
              "<table border=\"1\" class=\"dataframe\">\n",
              "  <thead>\n",
              "    <tr style=\"text-align: right;\">\n",
              "      <th></th>\n",
              "      <th>User country</th>\n",
              "      <th>Nr. reviews</th>\n",
              "      <th>Nr. hotel reviews</th>\n",
              "      <th>Helpful votes</th>\n",
              "      <th>Score</th>\n",
              "      <th>Period of stay</th>\n",
              "      <th>Traveler type</th>\n",
              "      <th>Pool</th>\n",
              "      <th>Gym</th>\n",
              "      <th>Tennis court</th>\n",
              "      <th>Spa</th>\n",
              "      <th>Casino</th>\n",
              "      <th>Free internet</th>\n",
              "      <th>Hotel name</th>\n",
              "      <th>Hotel stars</th>\n",
              "      <th>Nr. rooms</th>\n",
              "      <th>User continent</th>\n",
              "      <th>Member years</th>\n",
              "      <th>Review month</th>\n",
              "      <th>Review weekday</th>\n",
              "    </tr>\n",
              "  </thead>\n",
              "  <tbody>\n",
              "  </tbody>\n",
              "</table>\n",
              "</div>\n",
              "      <button class=\"colab-df-convert\" onclick=\"convertToInteractive('df-d07293fd-5125-4b0a-9a4b-6ab4995fcc9e')\"\n",
              "              title=\"Convert this dataframe to an interactive table.\"\n",
              "              style=\"display:none;\">\n",
              "        \n",
              "  <svg xmlns=\"http://www.w3.org/2000/svg\" height=\"24px\"viewBox=\"0 0 24 24\"\n",
              "       width=\"24px\">\n",
              "    <path d=\"M0 0h24v24H0V0z\" fill=\"none\"/>\n",
              "    <path d=\"M18.56 5.44l.94 2.06.94-2.06 2.06-.94-2.06-.94-.94-2.06-.94 2.06-2.06.94zm-11 1L8.5 8.5l.94-2.06 2.06-.94-2.06-.94L8.5 2.5l-.94 2.06-2.06.94zm10 10l.94 2.06.94-2.06 2.06-.94-2.06-.94-.94-2.06-.94 2.06-2.06.94z\"/><path d=\"M17.41 7.96l-1.37-1.37c-.4-.4-.92-.59-1.43-.59-.52 0-1.04.2-1.43.59L10.3 9.45l-7.72 7.72c-.78.78-.78 2.05 0 2.83L4 21.41c.39.39.9.59 1.41.59.51 0 1.02-.2 1.41-.59l7.78-7.78 2.81-2.81c.8-.78.8-2.07 0-2.86zM5.41 20L4 18.59l7.72-7.72 1.47 1.35L5.41 20z\"/>\n",
              "  </svg>\n",
              "      </button>\n",
              "      \n",
              "  <style>\n",
              "    .colab-df-container {\n",
              "      display:flex;\n",
              "      flex-wrap:wrap;\n",
              "      gap: 12px;\n",
              "    }\n",
              "\n",
              "    .colab-df-convert {\n",
              "      background-color: #E8F0FE;\n",
              "      border: none;\n",
              "      border-radius: 50%;\n",
              "      cursor: pointer;\n",
              "      display: none;\n",
              "      fill: #1967D2;\n",
              "      height: 32px;\n",
              "      padding: 0 0 0 0;\n",
              "      width: 32px;\n",
              "    }\n",
              "\n",
              "    .colab-df-convert:hover {\n",
              "      background-color: #E2EBFA;\n",
              "      box-shadow: 0px 1px 2px rgba(60, 64, 67, 0.3), 0px 1px 3px 1px rgba(60, 64, 67, 0.15);\n",
              "      fill: #174EA6;\n",
              "    }\n",
              "\n",
              "    [theme=dark] .colab-df-convert {\n",
              "      background-color: #3B4455;\n",
              "      fill: #D2E3FC;\n",
              "    }\n",
              "\n",
              "    [theme=dark] .colab-df-convert:hover {\n",
              "      background-color: #434B5C;\n",
              "      box-shadow: 0px 1px 3px 1px rgba(0, 0, 0, 0.15);\n",
              "      filter: drop-shadow(0px 1px 2px rgba(0, 0, 0, 0.3));\n",
              "      fill: #FFFFFF;\n",
              "    }\n",
              "  </style>\n",
              "\n",
              "      <script>\n",
              "        const buttonEl =\n",
              "          document.querySelector('#df-d07293fd-5125-4b0a-9a4b-6ab4995fcc9e button.colab-df-convert');\n",
              "        buttonEl.style.display =\n",
              "          google.colab.kernel.accessAllowed ? 'block' : 'none';\n",
              "\n",
              "        async function convertToInteractive(key) {\n",
              "          const element = document.querySelector('#df-d07293fd-5125-4b0a-9a4b-6ab4995fcc9e');\n",
              "          const dataTable =\n",
              "            await google.colab.kernel.invokeFunction('convertToInteractive',\n",
              "                                                     [key], {});\n",
              "          if (!dataTable) return;\n",
              "\n",
              "          const docLinkHtml = 'Like what you see? Visit the ' +\n",
              "            '<a target=\"_blank\" href=https://colab.research.google.com/notebooks/data_table.ipynb>data table notebook</a>'\n",
              "            + ' to learn more about interactive tables.';\n",
              "          element.innerHTML = '';\n",
              "          dataTable['output_type'] = 'display_data';\n",
              "          await google.colab.output.renderOutput(dataTable, element);\n",
              "          const docLink = document.createElement('div');\n",
              "          docLink.innerHTML = docLinkHtml;\n",
              "          element.appendChild(docLink);\n",
              "        }\n",
              "      </script>\n",
              "    </div>\n",
              "  </div>\n",
              "  "
            ]
          },
          "metadata": {},
          "execution_count": 13
        }
      ]
    },
    {
      "cell_type": "code",
      "source": [
        "# Check accuracy and scope of string data\n",
        "for col in alphas:\n",
        "  print(f'---{col}----\\n{df[col].unique()}')"
      ],
      "metadata": {
        "colab": {
          "base_uri": "https://localhost:8080/"
        },
        "id": "mjExXCP83Huj",
        "outputId": "7b3ec6c3-c5ed-41a2-f5db-940e1ffd5b96"
      },
      "execution_count": 14,
      "outputs": [
        {
          "output_type": "stream",
          "name": "stdout",
          "text": [
            "---User country----\n",
            "['USA' 'UK' 'Canada' 'India' 'Australia' 'New Zeland' 'Ireland' 'Egypt'\n",
            " 'Finland' 'Kenya' 'Jordan' 'Netherlands' 'Syria' 'Scotland'\n",
            " 'South Africa' 'Swiss' 'United Arab Emirates' 'Hungary' 'China' 'Greece'\n",
            " 'Mexico' 'Croatia' 'Germany' 'Malaysia' 'Thailand' 'Phillippines'\n",
            " 'Israel' 'India ' 'Belgium' 'Puerto Rico' 'Switzerland' 'Norway' 'France'\n",
            " 'Spain' 'Singapore' 'Brazil' 'Costa Rica' 'Iran' 'Saudi Arabia'\n",
            " 'Honduras' 'Denmark' 'Taiwan' 'Hawaii' 'Kuwait' 'Czech Republic' 'Japan'\n",
            " 'Korea' 'Italy']\n",
            "---Period of stay----\n",
            "['Dec-Feb' 'Mar-May' 'Jun-Aug' 'Sep-Nov']\n",
            "---Traveler type----\n",
            "['Friends' 'Business' 'Families' 'Solo' 'Couples']\n",
            "---Pool----\n",
            "['NO' 'YES']\n",
            "---Gym----\n",
            "['YES' 'NO']\n",
            "---Tennis court----\n",
            "['NO' 'YES']\n",
            "---Spa----\n",
            "['NO' 'YES']\n",
            "---Casino----\n",
            "['YES' 'NO']\n",
            "---Free internet----\n",
            "['YES' 'NO']\n",
            "---Hotel name----\n",
            "['Circus Circus Hotel & Casino Las Vegas' 'Excalibur Hotel & Casino'\n",
            " 'Monte Carlo Resort&Casino' 'Treasure Island- TI Hotel & Casino'\n",
            " 'Tropicana Las Vegas - A Double Tree by Hilton Hotel' 'Caesars Palace'\n",
            " 'The Cosmopolitan Las Vegas' 'The Palazzo Resort Hotel Casino'\n",
            " 'Wynn Las Vegas' 'Trump International Hotel Las Vegas' 'The Cromwell'\n",
            " 'Encore at wynn Las Vegas' 'Hilton Grand Vacations on the Boulevard'\n",
            " \"Marriott's Grand Chateau\" 'Tuscany Las Vegas Suites & Casino'\n",
            " 'Hilton Grand Vacations at the Flamingo' 'Wyndham Grand Desert'\n",
            " 'The Venetian Las Vegas Hotel' 'Bellagio Las Vegas' 'Paris Las Vegas'\n",
            " 'The Westin las Vegas Hotel Casino & Spa']\n",
            "---Hotel stars----\n",
            "['3' '4' '5' '4,5' '3,5']\n",
            "---User continent----\n",
            "['North America' 'Europe' 'Asia' 'Oceania' 'Africa' 'South America']\n",
            "---Review month----\n",
            "['January' 'February' 'March' 'April' 'May' 'June' 'July' 'August'\n",
            " 'September' 'October' 'November' 'December']\n",
            "---Review weekday----\n",
            "['Thursday' 'Friday' 'Saturday' 'Tuesday' 'Wednesday' 'Sunday' 'Monday']\n"
          ]
        }
      ]
    },
    {
      "cell_type": "code",
      "source": [
        "import seaborn as sns\n",
        "import matplotlib.pyplot as plt\n",
        "\n",
        "plot = sns.displot(data = df, x= 'Score',kind='hist', height=7, aspect=1.5)\n",
        "plt.title('Histogram of Scores', fontsize=20)\n",
        "plt.show()"
      ],
      "metadata": {
        "colab": {
          "base_uri": "https://localhost:8080/",
          "height": 534
        },
        "id": "PtPwqrIF5-95",
        "outputId": "fcf3d0d5-df37-4d2a-ff7c-17373cb9f8a2"
      },
      "execution_count": 15,
      "outputs": [
        {
          "output_type": "display_data",
          "data": {
            "text/plain": [
              "<Figure size 756x504 with 1 Axes>"
            ],
            "image/png": "[encoded data removed]"
          },
          "metadata": {
            "needs_background": "light"
          }
        }
      ]
    },
    {
      "cell_type": "markdown",
      "source": [
        "**Observations**\n",
        "\n",
        "Histogram appears to be left-skewed, strongly favoring higher scores."
      ],
      "metadata": {
        "id": "9OQmQG1r9qqz"
      }
    },
    {
      "cell_type": "markdown",
      "source": [
        "## Data Summary\n",
        "\n",
        "* No missing/NaN data\n",
        "* Clean categorical data, no anomalies between values\n",
        "* Corrected one negative entry in feature 'Member Years' by setting to 0 \n",
        "* No actual date features - dates listed can be considered categorical\n",
        "* Scores are integers between 1 and 5\n",
        "* Majority of features appear to be categorical, which is interesting\n"
      ],
      "metadata": {
        "id": "on1RSqGZ-4OH"
      }
    },
    {
      "cell_type": "markdown",
      "source": [
        "## Part II: Feature Engineering and Properly split the data into training and testing sets\n",
        "\n",
        "\n",
        "1. Perform OneHotEncode categorical features\n",
        "2. Generate degree-2 polynomial features of continuous variables\n",
        "3. Perform train test split as follows:\n",
        "\n",
        "\n",
        "*   Training vs Testing ratio is 80% and 20% **under each hotel name**\n",
        "  \n",
        "    For example, Hotel 'Circus Circus Hotel & Casino Las Vegas' has 24 observations in total. You are expecting ~5 of the observations in the testing set with randomness.\n",
        "4. Normalize numerical data using MinMaxScaler, where min = 0, max = 1"
      ],
      "metadata": {
        "id": "xt3h3XgGMY8x"
      }
    },
    {
      "cell_type": "code",
      "source": [
        "from sklearn.pipeline import Pipeline\n",
        "from sklearn.impute import SimpleImputer\n",
        "from sklearn.preprocessing import OneHotEncoder, MinMaxScaler\n",
        "from sklearn.compose import ColumnTransformer"
      ],
      "metadata": {
        "id": "BRFLhIax0qay"
      },
      "execution_count": 16,
      "outputs": []
    },
    {
      "cell_type": "markdown",
      "source": [
        "## Perform Train Test Split"
      ],
      "metadata": {
        "id": "ZYtz9N7HOXAD"
      }
    },
    {
      "cell_type": "code",
      "source": [
        "# Set up X and y\n",
        "X = df.drop('Score',axis=1)\n",
        "y = df.Score\n",
        "\n",
        "# Split the train and test sets\n",
        "X_train,X_test, y_train, y_test = train_test_split(X , y, test_size = .2, stratify = df['Hotel name'],random_state = 1000)"
      ],
      "metadata": {
        "id": "ImJN6dp_MYM8"
      },
      "execution_count": 17,
      "outputs": []
    },
    {
      "cell_type": "code",
      "source": [
        "# Check if the stratify worked\n",
        "# X_test.groupby('Hotel name').count()"
      ],
      "metadata": {
        "id": "JA5y1kbLOjvF"
      },
      "execution_count": 18,
      "outputs": []
    },
    {
      "cell_type": "code",
      "source": [
        "# basic exploration of the training set - numeric variable\n",
        "X_train.describe().T"
      ],
      "metadata": {
        "id": "wMGbyjvAOpbB",
        "colab": {
          "base_uri": "https://localhost:8080/",
          "height": 206
        },
        "outputId": "29ce3d26-349c-45bf-d7ad-f62d6beea951"
      },
      "execution_count": 19,
      "outputs": [
        {
          "output_type": "execute_result",
          "data": {
            "text/plain": [
              "                   count         mean          std    min    25%     50%  \\\n",
              "Nr. reviews        403.0    44.607940    68.093842    1.0   12.0    24.0   \n",
              "Nr. hotel reviews  403.0    15.741935    23.984819    0.0    5.0     9.0   \n",
              "Helpful votes      403.0    30.111663    45.126466    0.0    8.0    16.0   \n",
              "Nr. rooms          403.0  2190.156328  1284.001586  188.0  826.0  2700.0   \n",
              "Member years       403.0     4.387097     2.864091    0.0    2.0     4.0   \n",
              "\n",
              "                      75%     max  \n",
              "Nr. reviews          50.0   775.0  \n",
              "Nr. hotel reviews    17.5   263.0  \n",
              "Helpful votes        32.5   365.0  \n",
              "Nr. rooms          3025.0  4027.0  \n",
              "Member years          6.0    13.0  "
            ],
            "text/html": [
              "\n",
              "  <div id=\"df-33b05501-0ce5-42e6-994f-454d18e3a854\">\n",
              "    <div class=\"colab-df-container\">\n",
              "      <div>\n",
              "<style scoped>\n",
              "    .dataframe tbody tr th:only-of-type {\n",
              "        vertical-align: middle;\n",
              "    }\n",
              "\n",
              "    .dataframe tbody tr th {\n",
              "        vertical-align: top;\n",
              "    }\n",
              "\n",
              "    .dataframe thead th {\n",
              "        text-align: right;\n",
              "    }\n",
              "</style>\n",
              "<table border=\"1\" class=\"dataframe\">\n",
              "  <thead>\n",
              "    <tr style=\"text-align: right;\">\n",
              "      <th></th>\n",
              "      <th>count</th>\n",
              "      <th>mean</th>\n",
              "      <th>std</th>\n",
              "      <th>min</th>\n",
              "      <th>25%</th>\n",
              "      <th>50%</th>\n",
              "      <th>75%</th>\n",
              "      <th>max</th>\n",
              "    </tr>\n",
              "  </thead>\n",
              "  <tbody>\n",
              "    <tr>\n",
              "      <th>Nr. reviews</th>\n",
              "      <td>403.0</td>\n",
              "      <td>44.607940</td>\n",
              "      <td>68.093842</td>\n",
              "      <td>1.0</td>\n",
              "      <td>12.0</td>\n",
              "      <td>24.0</td>\n",
              "      <td>50.0</td>\n",
              "      <td>775.0</td>\n",
              "    </tr>\n",
              "    <tr>\n",
              "      <th>Nr. hotel reviews</th>\n",
              "      <td>403.0</td>\n",
              "      <td>15.741935</td>\n",
              "      <td>23.984819</td>\n",
              "      <td>0.0</td>\n",
              "      <td>5.0</td>\n",
              "      <td>9.0</td>\n",
              "      <td>17.5</td>\n",
              "      <td>263.0</td>\n",
              "    </tr>\n",
              "    <tr>\n",
              "      <th>Helpful votes</th>\n",
              "      <td>403.0</td>\n",
              "      <td>30.111663</td>\n",
              "      <td>45.126466</td>\n",
              "      <td>0.0</td>\n",
              "      <td>8.0</td>\n",
              "      <td>16.0</td>\n",
              "      <td>32.5</td>\n",
              "      <td>365.0</td>\n",
              "    </tr>\n",
              "    <tr>\n",
              "      <th>Nr. rooms</th>\n",
              "      <td>403.0</td>\n",
              "      <td>2190.156328</td>\n",
              "      <td>1284.001586</td>\n",
              "      <td>188.0</td>\n",
              "      <td>826.0</td>\n",
              "      <td>2700.0</td>\n",
              "      <td>3025.0</td>\n",
              "      <td>4027.0</td>\n",
              "    </tr>\n",
              "    <tr>\n",
              "      <th>Member years</th>\n",
              "      <td>403.0</td>\n",
              "      <td>4.387097</td>\n",
              "      <td>2.864091</td>\n",
              "      <td>0.0</td>\n",
              "      <td>2.0</td>\n",
              "      <td>4.0</td>\n",
              "      <td>6.0</td>\n",
              "      <td>13.0</td>\n",
              "    </tr>\n",
              "  </tbody>\n",
              "</table>\n",
              "</div>\n",
              "      <button class=\"colab-df-convert\" onclick=\"convertToInteractive('df-33b05501-0ce5-42e6-994f-454d18e3a854')\"\n",
              "              title=\"Convert this dataframe to an interactive table.\"\n",
              "              style=\"display:none;\">\n",
              "        \n",
              "  <svg xmlns=\"http://www.w3.org/2000/svg\" height=\"24px\"viewBox=\"0 0 24 24\"\n",
              "       width=\"24px\">\n",
              "    <path d=\"M0 0h24v24H0V0z\" fill=\"none\"/>\n",
              "    <path d=\"M18.56 5.44l.94 2.06.94-2.06 2.06-.94-2.06-.94-.94-2.06-.94 2.06-2.06.94zm-11 1L8.5 8.5l.94-2.06 2.06-.94-2.06-.94L8.5 2.5l-.94 2.06-2.06.94zm10 10l.94 2.06.94-2.06 2.06-.94-2.06-.94-.94-2.06-.94 2.06-2.06.94z\"/><path d=\"M17.41 7.96l-1.37-1.37c-.4-.4-.92-.59-1.43-.59-.52 0-1.04.2-1.43.59L10.3 9.45l-7.72 7.72c-.78.78-.78 2.05 0 2.83L4 21.41c.39.39.9.59 1.41.59.51 0 1.02-.2 1.41-.59l7.78-7.78 2.81-2.81c.8-.78.8-2.07 0-2.86zM5.41 20L4 18.59l7.72-7.72 1.47 1.35L5.41 20z\"/>\n",
              "  </svg>\n",
              "      </button>\n",
              "      \n",
              "  <style>\n",
              "    .colab-df-container {\n",
              "      display:flex;\n",
              "      flex-wrap:wrap;\n",
              "      gap: 12px;\n",
              "    }\n",
              "\n",
              "    .colab-df-convert {\n",
              "      background-color: #E8F0FE;\n",
              "      border: none;\n",
              "      border-radius: 50%;\n",
              "      cursor: pointer;\n",
              "      display: none;\n",
              "      fill: #1967D2;\n",
              "      height: 32px;\n",
              "      padding: 0 0 0 0;\n",
              "      width: 32px;\n",
              "    }\n",
              "\n",
              "    .colab-df-convert:hover {\n",
              "      background-color: #E2EBFA;\n",
              "      box-shadow: 0px 1px 2px rgba(60, 64, 67, 0.3), 0px 1px 3px 1px rgba(60, 64, 67, 0.15);\n",
              "      fill: #174EA6;\n",
              "    }\n",
              "\n",
              "    [theme=dark] .colab-df-convert {\n",
              "      background-color: #3B4455;\n",
              "      fill: #D2E3FC;\n",
              "    }\n",
              "\n",
              "    [theme=dark] .colab-df-convert:hover {\n",
              "      background-color: #434B5C;\n",
              "      box-shadow: 0px 1px 3px 1px rgba(0, 0, 0, 0.15);\n",
              "      filter: drop-shadow(0px 1px 2px rgba(0, 0, 0, 0.3));\n",
              "      fill: #FFFFFF;\n",
              "    }\n",
              "  </style>\n",
              "\n",
              "      <script>\n",
              "        const buttonEl =\n",
              "          document.querySelector('#df-33b05501-0ce5-42e6-994f-454d18e3a854 button.colab-df-convert');\n",
              "        buttonEl.style.display =\n",
              "          google.colab.kernel.accessAllowed ? 'block' : 'none';\n",
              "\n",
              "        async function convertToInteractive(key) {\n",
              "          const element = document.querySelector('#df-33b05501-0ce5-42e6-994f-454d18e3a854');\n",
              "          const dataTable =\n",
              "            await google.colab.kernel.invokeFunction('convertToInteractive',\n",
              "                                                     [key], {});\n",
              "          if (!dataTable) return;\n",
              "\n",
              "          const docLinkHtml = 'Like what you see? Visit the ' +\n",
              "            '<a target=\"_blank\" href=https://colab.research.google.com/notebooks/data_table.ipynb>data table notebook</a>'\n",
              "            + ' to learn more about interactive tables.';\n",
              "          element.innerHTML = '';\n",
              "          dataTable['output_type'] = 'display_data';\n",
              "          await google.colab.output.renderOutput(dataTable, element);\n",
              "          const docLink = document.createElement('div');\n",
              "          docLink.innerHTML = docLinkHtml;\n",
              "          element.appendChild(docLink);\n",
              "        }\n",
              "      </script>\n",
              "    </div>\n",
              "  </div>\n",
              "  "
            ]
          },
          "metadata": {},
          "execution_count": 19
        }
      ]
    },
    {
      "cell_type": "code",
      "source": [
        "# basic exploration of the training set - categorical variable\n",
        "X_train.describe(include=object).T"
      ],
      "metadata": {
        "id": "YDNYVJvQOri0",
        "colab": {
          "base_uri": "https://localhost:8080/",
          "height": 488
        },
        "outputId": "e735dd01-4312-4d61-98b5-9342c0582a19"
      },
      "execution_count": 20,
      "outputs": [
        {
          "output_type": "execute_result",
          "data": {
            "text/plain": [
              "               count unique             top freq\n",
              "User country     403     42             USA  170\n",
              "Period of stay   403      4         Mar-May  110\n",
              "Traveler type    403      5         Couples  169\n",
              "Pool             403      2             YES  384\n",
              "Gym              403      2             YES  384\n",
              "Tennis court     403      2              NO  307\n",
              "Spa              403      2             YES  307\n",
              "Casino           403      2             YES  364\n",
              "Free internet    403      2             YES  384\n",
              "Hotel name       403     21  Wynn Las Vegas   20\n",
              "Hotel stars      403      5               5  154\n",
              "User continent   403      6   North America  236\n",
              "Review month     403     12             May   38\n",
              "Review weekday   403      7         Tuesday   70"
            ],
            "text/html": [
              "\n",
              "  <div id=\"df-0cb31dce-384c-42ea-8381-05f0e5ede5c5\">\n",
              "    <div class=\"colab-df-container\">\n",
              "      <div>\n",
              "<style scoped>\n",
              "    .dataframe tbody tr th:only-of-type {\n",
              "        vertical-align: middle;\n",
              "    }\n",
              "\n",
              "    .dataframe tbody tr th {\n",
              "        vertical-align: top;\n",
              "    }\n",
              "\n",
              "    .dataframe thead th {\n",
              "        text-align: right;\n",
              "    }\n",
              "</style>\n",
              "<table border=\"1\" class=\"dataframe\">\n",
              "  <thead>\n",
              "    <tr style=\"text-align: right;\">\n",
              "      <th></th>\n",
              "      <th>count</th>\n",
              "      <th>unique</th>\n",
              "      <th>top</th>\n",
              "      <th>freq</th>\n",
              "    </tr>\n",
              "  </thead>\n",
              "  <tbody>\n",
              "    <tr>\n",
              "      <th>User country</th>\n",
              "      <td>403</td>\n",
              "      <td>42</td>\n",
              "      <td>USA</td>\n",
              "      <td>170</td>\n",
              "    </tr>\n",
              "    <tr>\n",
              "      <th>Period of stay</th>\n",
              "      <td>403</td>\n",
              "      <td>4</td>\n",
              "      <td>Mar-May</td>\n",
              "      <td>110</td>\n",
              "    </tr>\n",
              "    <tr>\n",
              "      <th>Traveler type</th>\n",
              "      <td>403</td>\n",
              "      <td>5</td>\n",
              "      <td>Couples</td>\n",
              "      <td>169</td>\n",
              "    </tr>\n",
              "    <tr>\n",
              "      <th>Pool</th>\n",
              "      <td>403</td>\n",
              "      <td>2</td>\n",
              "      <td>YES</td>\n",
              "      <td>384</td>\n",
              "    </tr>\n",
              "    <tr>\n",
              "      <th>Gym</th>\n",
              "      <td>403</td>\n",
              "      <td>2</td>\n",
              "      <td>YES</td>\n",
              "      <td>384</td>\n",
              "    </tr>\n",
              "    <tr>\n",
              "      <th>Tennis court</th>\n",
              "      <td>403</td>\n",
              "      <td>2</td>\n",
              "      <td>NO</td>\n",
              "      <td>307</td>\n",
              "    </tr>\n",
              "    <tr>\n",
              "      <th>Spa</th>\n",
              "      <td>403</td>\n",
              "      <td>2</td>\n",
              "      <td>YES</td>\n",
              "      <td>307</td>\n",
              "    </tr>\n",
              "    <tr>\n",
              "      <th>Casino</th>\n",
              "      <td>403</td>\n",
              "      <td>2</td>\n",
              "      <td>YES</td>\n",
              "      <td>364</td>\n",
              "    </tr>\n",
              "    <tr>\n",
              "      <th>Free internet</th>\n",
              "      <td>403</td>\n",
              "      <td>2</td>\n",
              "      <td>YES</td>\n",
              "      <td>384</td>\n",
              "    </tr>\n",
              "    <tr>\n",
              "      <th>Hotel name</th>\n",
              "      <td>403</td>\n",
              "      <td>21</td>\n",
              "      <td>Wynn Las Vegas</td>\n",
              "      <td>20</td>\n",
              "    </tr>\n",
              "    <tr>\n",
              "      <th>Hotel stars</th>\n",
              "      <td>403</td>\n",
              "      <td>5</td>\n",
              "      <td>5</td>\n",
              "      <td>154</td>\n",
              "    </tr>\n",
              "    <tr>\n",
              "      <th>User continent</th>\n",
              "      <td>403</td>\n",
              "      <td>6</td>\n",
              "      <td>North America</td>\n",
              "      <td>236</td>\n",
              "    </tr>\n",
              "    <tr>\n",
              "      <th>Review month</th>\n",
              "      <td>403</td>\n",
              "      <td>12</td>\n",
              "      <td>May</td>\n",
              "      <td>38</td>\n",
              "    </tr>\n",
              "    <tr>\n",
              "      <th>Review weekday</th>\n",
              "      <td>403</td>\n",
              "      <td>7</td>\n",
              "      <td>Tuesday</td>\n",
              "      <td>70</td>\n",
              "    </tr>\n",
              "  </tbody>\n",
              "</table>\n",
              "</div>\n",
              "      <button class=\"colab-df-convert\" onclick=\"convertToInteractive('df-0cb31dce-384c-42ea-8381-05f0e5ede5c5')\"\n",
              "              title=\"Convert this dataframe to an interactive table.\"\n",
              "              style=\"display:none;\">\n",
              "        \n",
              "  <svg xmlns=\"http://www.w3.org/2000/svg\" height=\"24px\"viewBox=\"0 0 24 24\"\n",
              "       width=\"24px\">\n",
              "    <path d=\"M0 0h24v24H0V0z\" fill=\"none\"/>\n",
              "    <path d=\"M18.56 5.44l.94 2.06.94-2.06 2.06-.94-2.06-.94-.94-2.06-.94 2.06-2.06.94zm-11 1L8.5 8.5l.94-2.06 2.06-.94-2.06-.94L8.5 2.5l-.94 2.06-2.06.94zm10 10l.94 2.06.94-2.06 2.06-.94-2.06-.94-.94-2.06-.94 2.06-2.06.94z\"/><path d=\"M17.41 7.96l-1.37-1.37c-.4-.4-.92-.59-1.43-.59-.52 0-1.04.2-1.43.59L10.3 9.45l-7.72 7.72c-.78.78-.78 2.05 0 2.83L4 21.41c.39.39.9.59 1.41.59.51 0 1.02-.2 1.41-.59l7.78-7.78 2.81-2.81c.8-.78.8-2.07 0-2.86zM5.41 20L4 18.59l7.72-7.72 1.47 1.35L5.41 20z\"/>\n",
              "  </svg>\n",
              "      </button>\n",
              "      \n",
              "  <style>\n",
              "    .colab-df-container {\n",
              "      display:flex;\n",
              "      flex-wrap:wrap;\n",
              "      gap: 12px;\n",
              "    }\n",
              "\n",
              "    .colab-df-convert {\n",
              "      background-color: #E8F0FE;\n",
              "      border: none;\n",
              "      border-radius: 50%;\n",
              "      cursor: pointer;\n",
              "      display: none;\n",
              "      fill: #1967D2;\n",
              "      height: 32px;\n",
              "      padding: 0 0 0 0;\n",
              "      width: 32px;\n",
              "    }\n",
              "\n",
              "    .colab-df-convert:hover {\n",
              "      background-color: #E2EBFA;\n",
              "      box-shadow: 0px 1px 2px rgba(60, 64, 67, 0.3), 0px 1px 3px 1px rgba(60, 64, 67, 0.15);\n",
              "      fill: #174EA6;\n",
              "    }\n",
              "\n",
              "    [theme=dark] .colab-df-convert {\n",
              "      background-color: #3B4455;\n",
              "      fill: #D2E3FC;\n",
              "    }\n",
              "\n",
              "    [theme=dark] .colab-df-convert:hover {\n",
              "      background-color: #434B5C;\n",
              "      box-shadow: 0px 1px 3px 1px rgba(0, 0, 0, 0.15);\n",
              "      filter: drop-shadow(0px 1px 2px rgba(0, 0, 0, 0.3));\n",
              "      fill: #FFFFFF;\n",
              "    }\n",
              "  </style>\n",
              "\n",
              "      <script>\n",
              "        const buttonEl =\n",
              "          document.querySelector('#df-0cb31dce-384c-42ea-8381-05f0e5ede5c5 button.colab-df-convert');\n",
              "        buttonEl.style.display =\n",
              "          google.colab.kernel.accessAllowed ? 'block' : 'none';\n",
              "\n",
              "        async function convertToInteractive(key) {\n",
              "          const element = document.querySelector('#df-0cb31dce-384c-42ea-8381-05f0e5ede5c5');\n",
              "          const dataTable =\n",
              "            await google.colab.kernel.invokeFunction('convertToInteractive',\n",
              "                                                     [key], {});\n",
              "          if (!dataTable) return;\n",
              "\n",
              "          const docLinkHtml = 'Like what you see? Visit the ' +\n",
              "            '<a target=\"_blank\" href=https://colab.research.google.com/notebooks/data_table.ipynb>data table notebook</a>'\n",
              "            + ' to learn more about interactive tables.';\n",
              "          element.innerHTML = '';\n",
              "          dataTable['output_type'] = 'display_data';\n",
              "          await google.colab.output.renderOutput(dataTable, element);\n",
              "          const docLink = document.createElement('div');\n",
              "          docLink.innerHTML = docLinkHtml;\n",
              "          element.appendChild(docLink);\n",
              "        }\n",
              "      </script>\n",
              "    </div>\n",
              "  </div>\n",
              "  "
            ]
          },
          "metadata": {},
          "execution_count": 20
        }
      ]
    },
    {
      "cell_type": "markdown",
      "source": [
        "## Set up Processing Pipeline"
      ],
      "metadata": {
        "id": "OZYazDglOw_3"
      }
    },
    {
      "cell_type": "code",
      "source": [
        "# Sort out numerical_features and categorical features\n",
        "numerical_features = X_train.select_dtypes(include='number').columns.tolist()\n",
        "print(f'There are {len(numerical_features)} numerical features:', '\\n')\n",
        "print(numerical_features)\n",
        "\n",
        "categorical_features = X_train.select_dtypes(exclude='number').columns.tolist()\n",
        "print(f'\\nThere are {len(categorical_features)} categorical features:', '\\n')\n",
        "print(categorical_features)"
      ],
      "metadata": {
        "id": "hjei_8L1O4YV",
        "colab": {
          "base_uri": "https://localhost:8080/"
        },
        "outputId": "4145d8b4-0434-4083-ba06-7ad59a6bb0d0"
      },
      "execution_count": 21,
      "outputs": [
        {
          "output_type": "stream",
          "name": "stdout",
          "text": [
            "There are 5 numerical features: \n",
            "\n",
            "['Nr. reviews', 'Nr. hotel reviews', 'Helpful votes', 'Nr. rooms', 'Member years']\n",
            "\n",
            "There are 14 categorical features: \n",
            "\n",
            "['User country', 'Period of stay', 'Traveler type', 'Pool', 'Gym', 'Tennis court', 'Spa', 'Casino', 'Free internet', 'Hotel name', 'Hotel stars', 'User continent', 'Review month', 'Review weekday']\n"
          ]
        }
      ]
    },
    {
      "cell_type": "code",
      "source": [
        "# Create two small pipelines for both numerical and categorical features:\n",
        "numeric_pipeline = Pipeline(steps = [('scale',MinMaxScaler()),\n",
        "                                     ('impute',SimpleImputer(strategy='mean')),\n",
        "                                     ('poly', PolynomialFeatures(degree = 2, interaction_only = False))])\n",
        "\n",
        "# Set handle_unknown to ignore to skip previously unseen labels. \n",
        "# Otherwise, OneHotEncoder would throw an error if there are labels in test set that are not in train set\n",
        "categorical_pipeline = Pipeline(steps = [('one-hot',OneHotEncoder(handle_unknown='ignore',sparse=False)),\n",
        "                                         ('impute', SimpleImputer(strategy='most_frequent'))])"
      ],
      "metadata": {
        "id": "3hgCqUIAO6H0"
      },
      "execution_count": 22,
      "outputs": []
    },
    {
      "cell_type": "markdown",
      "source": [
        "**Combine pipelines using a Column Transformer**"
      ],
      "metadata": {
        "id": "V3lrlV4-O9x5"
      }
    },
    {
      "cell_type": "code",
      "source": [
        "# ColumnTransformer takes a tuple of transformers\n",
        "full_processor = ColumnTransformer(transformers = [('number', numeric_pipeline, numerical_features),\n",
        "                                                  ('category',categorical_pipeline, categorical_features)\n",
        "])"
      ],
      "metadata": {
        "id": "3HtGOjCSO_Ol"
      },
      "execution_count": 23,
      "outputs": []
    },
    {
      "cell_type": "markdown",
      "source": [
        "**Create target transform pipeline**\n",
        "\n",
        "For use upscaling predicted values."
      ],
      "metadata": {
        "id": "Dv7-rlkb5jgV"
      }
    },
    {
      "cell_type": "code",
      "source": [
        "from sklearn.preprocessing import FunctionTransformer"
      ],
      "metadata": {
        "id": "XhKg9rUJ-8u1"
      },
      "execution_count": 24,
      "outputs": []
    },
    {
      "cell_type": "code",
      "source": [
        "# Create a transformer for y for convenience\n",
        "def scale_target(x): \n",
        "  '''\n",
        "  Normalize the given target data \n",
        "  '''\n",
        "  return x/5\n",
        "def unscale_target(x):\n",
        "  '''\n",
        "  Scale the given target data back into its original range \n",
        "  '''\n",
        "  # adjust value range\n",
        "  x_t = x*5\n",
        "  # clip values between min and max\n",
        "  x_t[x_t > 5] = 5\n",
        "  x_t[x_t < 1] = 1\n",
        "  return x_t"
      ],
      "metadata": {
        "id": "6L0atgiWA4lP"
      },
      "execution_count": 25,
      "outputs": []
    },
    {
      "cell_type": "code",
      "source": [
        "target_scaler = FunctionTransformer(scale_target, inverse_func=unscale_target)\n",
        "\n",
        "target_pipeline = Pipeline(steps = [('scale',target_scaler)])"
      ],
      "metadata": {
        "id": "n2TDQU-O3Xvt"
      },
      "execution_count": 26,
      "outputs": []
    },
    {
      "cell_type": "markdown",
      "source": [
        "**Transform the training result values**"
      ],
      "metadata": {
        "id": "C0jHH3ttNFqG"
      }
    },
    {
      "cell_type": "code",
      "source": [
        "y_train_tx = target_pipeline.fit_transform(y_train.array.reshape(-1, 1))"
      ],
      "metadata": {
        "id": "7qLTDme8cgsH"
      },
      "execution_count": 27,
      "outputs": []
    },
    {
      "cell_type": "markdown",
      "source": [
        "## Regressors"
      ],
      "metadata": {
        "id": "WjoiQBXqNPaa"
      }
    },
    {
      "cell_type": "markdown",
      "source": [
        "# Part III\n",
        "\n",
        "Perform linear regressions as:\n",
        "1. Linear Regression with MSE\n",
        "2. Linear Regression with MAE\n",
        "3. Poisson Regression"
      ],
      "metadata": {
        "id": "oVacu2qHYl76"
      }
    },
    {
      "cell_type": "code",
      "source": [
        "from sklearn.linear_model import LinearRegression\n",
        "from sklearn.metrics import mean_squared_error,mean_absolute_error"
      ],
      "metadata": {
        "id": "V4Nxh6bQEI_r"
      },
      "execution_count": 28,
      "outputs": []
    },
    {
      "cell_type": "markdown",
      "source": [
        "## Class Definitions\n",
        "\n",
        "\n"
      ],
      "metadata": {
        "id": "VK1hOzTWOHbT"
      }
    },
    {
      "cell_type": "code",
      "source": [
        "# Set debug flag for this section\n",
        "debug = False"
      ],
      "metadata": {
        "id": "PtTpA4Rmohz8"
      },
      "execution_count": 29,
      "outputs": []
    },
    {
      "cell_type": "code",
      "source": [
        "class Model_Evaluator(object):\n",
        "  \"\"\"\n",
        "  A class encompassing workflow of a linear Regressor.\n",
        "  \"\"\"\n",
        "  model = None\n",
        "  X_train = None\n",
        "  y_train = None\n",
        "  target_scaler = None\n",
        "  y_train_scaled = None\n",
        "  y_predicted_scaled = None\n",
        "  debug = False\n",
        "\n",
        "\n",
        "  def __init__(self, model, target_scaler, debug):\n",
        "    \"\"\"\n",
        "    Constructor.\n",
        "\n",
        "    `model` - a linear regressor instance\n",
        "    `target_scaler` - a transformer or pipeline for Y target data\n",
        "    `debug` - print debug? default `False`\n",
        "    \"\"\"\n",
        "    self.model = model\n",
        "    self.target_scaler = target_scaler\n",
        "    self.debug = debug\n",
        "    self.y_test_predicted = None\n",
        "\n",
        "\n",
        "  def fit(self, X_train, y_train):\n",
        "    \"\"\"\n",
        "    Fit the model with X and y training data.\n",
        "    `X_train` - training input\n",
        "    `y_train` - training output\n",
        "    \"\"\"\n",
        "    self.X_train = X_train\n",
        "    self.y_train = y_train\n",
        "\n",
        "    # Transform y values in preparation for fitting\n",
        "    self.y_train_scaled = self.target_scaler.fit_transform(y_train.array.reshape(-1, 1))\n",
        "\n",
        "    if self.debug:\n",
        "      print(\"Fitting model - note Huber throws a warning...\")\n",
        "    try:\n",
        "      self.model.fit(self.X_train, self.y_train_scaled)\n",
        "    except (Error) as e:\n",
        "      print(f'Error: {e}')\n",
        "\n",
        "\n",
        "  def score(self):\n",
        "    \"\"\"\n",
        "    Score the model.\n",
        "    \"\"\"\n",
        "    print(self.model.score(self.X_train, self.y_train_scaled))\n",
        "\n",
        "\n",
        "  def predict_training(self):\n",
        "    \"\"\"\n",
        "    Predict results of fitted training data\n",
        "    \"\"\"\n",
        "    if self.debug:\n",
        "      print(\"Predicting and scaling training results...\")\n",
        "\n",
        "    # Predict!\n",
        "    self.y_predicted_scaled = self.model.predict(self.X_train)\n",
        "    # Up-scale prediction back into target scale\n",
        "    y_predicted = target_scaler.inverse_transform(self.y_predicted_scaled)\n",
        "    \n",
        "\n",
        "    if self.debug:\n",
        "      print(y_predicted[:5], self.y_train[:5])\n",
        "\n",
        "    # Compare predicted with actual\n",
        "    MSE = mean_squared_error(y_predicted, self.y_train)\n",
        "    MAE = mean_absolute_error(y_predicted, self.y_train)\n",
        "    print(f'Mean Squared Error for TRAIN:\\t{MSE}.')\n",
        "    print(f'Mean Absolute Error for TRAIN:\\t{MAE}.')\n",
        "\n",
        "\n",
        "  def predict_test(self, X_test, y_test):\n",
        "    \"\"\"\n",
        "    Predict results of given test data\n",
        "    `X_test` - X values to apply model to\n",
        "    `y_test` - y actual values for evaluating predictions \n",
        "    \"\"\"\n",
        "    if self.debug:\n",
        "      print(\"Predicting and scaling test results...\")\n",
        "\n",
        "    # Predict Y values based on model\n",
        "    y_predicted_scaled = self.model.predict(X_test)\n",
        "\n",
        "    # Scale predictions back to target scale\n",
        "    y_predicted = target_scaler.inverse_transform(y_predicted_scaled)\n",
        "    # Save reference to predicted test results\n",
        "    self.y_test_predicted = y_predicted\n",
        "    \n",
        "    if self.debug:\n",
        "      print(y_predicted[:5], y_test[:5])\n",
        "\n",
        "    MSE = mean_squared_error(y_predicted, y_test)\n",
        "    MAE = mean_absolute_error(y_predicted, y_test)\n",
        "    print(f'Mean Squared Error for TEST:\\t{MSE}.')\n",
        "    print(f'Mean Absolute Error for TEST:\\t{MAE}.')\n"
      ],
      "metadata": {
        "id": "faxnSmPyKlLh"
      },
      "execution_count": 30,
      "outputs": []
    },
    {
      "cell_type": "code",
      "source": [
        "# Workaround to silence sklearn warnings - some of the LR algos prefer a\n",
        "#   column vector and some prefer a 1D array when fitting.\n",
        "#   This will silence the warnings, for readability.\n",
        "def warn(*args, **kwargs):\n",
        "    pass\n",
        "import warnings\n",
        "warnings.warn = warn\n"
      ],
      "metadata": {
        "id": "tlEzx06cpzce"
      },
      "execution_count": 31,
      "outputs": []
    },
    {
      "cell_type": "markdown",
      "source": [
        "## Linear Regression with MSE"
      ],
      "metadata": {
        "id": "qU-MMe1QguTj"
      }
    },
    {
      "cell_type": "markdown",
      "source": [
        "**Create and fit regressor**"
      ],
      "metadata": {
        "id": "7sQUdxvBu4HU"
      }
    },
    {
      "cell_type": "code",
      "source": [
        "# Construct a standard LinearRegression processor\n",
        "lr_pipeline = Pipeline(steps=[\n",
        "    ('preprocess', full_processor),\n",
        "    ('model', LinearRegression())\n",
        "])"
      ],
      "metadata": {
        "id": "d8VMKHTE_2MP"
      },
      "execution_count": 32,
      "outputs": []
    },
    {
      "cell_type": "code",
      "source": [
        "# Construct model evaluator\n",
        "lr_mse_model_evaluator = Model_Evaluator(lr_pipeline, target_scaler, debug)"
      ],
      "metadata": {
        "id": "BYuiSVJ7PGvO"
      },
      "execution_count": 33,
      "outputs": []
    },
    {
      "cell_type": "code",
      "source": [
        "# Fit model\n",
        "lr_mse_model_evaluator.fit(X_train, y_train)"
      ],
      "metadata": {
        "id": "YK83_-Ypcm98"
      },
      "execution_count": 34,
      "outputs": []
    },
    {
      "cell_type": "markdown",
      "source": [
        "**Predict results for Training data**"
      ],
      "metadata": {
        "id": "j6diXH9kH8_S"
      }
    },
    {
      "cell_type": "code",
      "source": [
        "lr_mse_model_evaluator.score()"
      ],
      "metadata": {
        "id": "bZeKvfIYa2Xt",
        "colab": {
          "base_uri": "https://localhost:8080/"
        },
        "outputId": "7c514163-455c-466e-80b9-2ca0631f118f"
      },
      "execution_count": 35,
      "outputs": [
        {
          "output_type": "stream",
          "name": "stdout",
          "text": [
            "0.3175357657816471\n"
          ]
        }
      ]
    },
    {
      "cell_type": "code",
      "source": [
        "lr_mse_model_evaluator.predict_training()"
      ],
      "metadata": {
        "colab": {
          "base_uri": "https://localhost:8080/"
        },
        "id": "tkbruKFYRugT",
        "outputId": "34d610dd-dfbc-4e27-eb6d-c64c53f09b92"
      },
      "execution_count": 36,
      "outputs": [
        {
          "output_type": "stream",
          "name": "stdout",
          "text": [
            "Mean Squared Error for TRAIN:\t0.6783770142358823.\n",
            "Mean Absolute Error for TRAIN:\t0.6348722472084367.\n"
          ]
        }
      ]
    },
    {
      "cell_type": "markdown",
      "source": [
        "**Predict results for Test data**"
      ],
      "metadata": {
        "id": "QFV2F_-qgQAp"
      }
    },
    {
      "cell_type": "code",
      "source": [
        "lr_mse_model_evaluator.predict_test(X_test, y_test)"
      ],
      "metadata": {
        "colab": {
          "base_uri": "https://localhost:8080/"
        },
        "id": "vmvex-piSJtg",
        "outputId": "368c00f8-7a11-4bba-e611-7168437a7bd4"
      },
      "execution_count": 37,
      "outputs": [
        {
          "output_type": "stream",
          "name": "stdout",
          "text": [
            "Mean Squared Error for TEST:\t1.575650961092203.\n",
            "Mean Absolute Error for TEST:\t0.9658106435643564.\n"
          ]
        }
      ]
    },
    {
      "cell_type": "markdown",
      "source": [
        "**Retain results for comparison**"
      ],
      "metadata": {
        "id": "2bm3dvG-pT1O"
      }
    },
    {
      "cell_type": "code",
      "source": [
        "res1 = pd.DataFrame({'prediction':lr_mse_model_evaluator.y_test_predicted.ravel(), \n",
        "                     'version':'MSE',\n",
        "                     'y_test':y_test})"
      ],
      "metadata": {
        "id": "gebLr_gU07eA"
      },
      "execution_count": 38,
      "outputs": []
    },
    {
      "cell_type": "markdown",
      "source": [
        "## Linear Regression with MAE"
      ],
      "metadata": {
        "id": "yu6-MM1cg4Vu"
      }
    },
    {
      "cell_type": "code",
      "source": [
        "from sklearn.linear_model import HuberRegressor"
      ],
      "metadata": {
        "id": "o7pbtmJuhDJ7"
      },
      "execution_count": 39,
      "outputs": []
    },
    {
      "cell_type": "markdown",
      "source": [
        "**Create and fit regressor**"
      ],
      "metadata": {
        "id": "3KmiCO4AkChk"
      }
    },
    {
      "cell_type": "code",
      "source": [
        "# Construct a processor for the Huber MAE regressor\n",
        "lr_pipeline = Pipeline(steps=[\n",
        "    ('preprocess', full_processor),\n",
        "    ('model', HuberRegressor(max_iter=10000, alpha=.001))\n",
        "])"
      ],
      "metadata": {
        "id": "6Qej-VPIkChl"
      },
      "execution_count": 40,
      "outputs": []
    },
    {
      "cell_type": "code",
      "source": [
        "# Construct model evaluator\n",
        "lr_mae_model_evaluator = Model_Evaluator(lr_pipeline, target_scaler, debug)"
      ],
      "metadata": {
        "id": "E9dRMT-DkChl"
      },
      "execution_count": 41,
      "outputs": []
    },
    {
      "cell_type": "code",
      "source": [
        "# Fit model\n",
        "lr_mae_model_evaluator.fit(X_train, y_train)"
      ],
      "metadata": {
        "id": "YZrLi2UYkChl"
      },
      "execution_count": 42,
      "outputs": []
    },
    {
      "cell_type": "markdown",
      "source": [
        "**Predict results for Training data**"
      ],
      "metadata": {
        "id": "nioXOAp6kChm"
      }
    },
    {
      "cell_type": "code",
      "source": [
        "lr_mae_model_evaluator.score()"
      ],
      "metadata": {
        "colab": {
          "base_uri": "https://localhost:8080/"
        },
        "outputId": "bd24fac1-c1e9-435b-e732-4256ac0a151b",
        "id": "nRQ9sEZdkChm"
      },
      "execution_count": 43,
      "outputs": [
        {
          "output_type": "stream",
          "name": "stdout",
          "text": [
            "0.2667257967452624\n"
          ]
        }
      ]
    },
    {
      "cell_type": "code",
      "source": [
        "lr_mae_model_evaluator.predict_training()"
      ],
      "metadata": {
        "colab": {
          "base_uri": "https://localhost:8080/"
        },
        "outputId": "615018d5-46eb-4a75-fc78-90bf89b96bb1",
        "id": "praIvpWWkChm"
      },
      "execution_count": 44,
      "outputs": [
        {
          "output_type": "stream",
          "name": "stdout",
          "text": [
            "Mean Squared Error for TRAIN:\t0.729097138827158.\n",
            "Mean Absolute Error for TRAIN:\t0.5804252785189445.\n"
          ]
        }
      ]
    },
    {
      "cell_type": "markdown",
      "source": [
        "**Predict results for Test data**"
      ],
      "metadata": {
        "id": "u9chps6EkChm"
      }
    },
    {
      "cell_type": "code",
      "source": [
        "lr_mae_model_evaluator.predict_test(X_test, y_test)"
      ],
      "metadata": {
        "colab": {
          "base_uri": "https://localhost:8080/"
        },
        "outputId": "9b0c23ce-147f-4565-9650-a9c58b432936",
        "id": "_GPA3StHkChn"
      },
      "execution_count": 45,
      "outputs": [
        {
          "output_type": "stream",
          "name": "stdout",
          "text": [
            "Mean Squared Error for TEST:\t1.098644927570109.\n",
            "Mean Absolute Error for TEST:\t0.8084973354552335.\n"
          ]
        }
      ]
    },
    {
      "cell_type": "markdown",
      "source": [
        "**Retain results for comparison**"
      ],
      "metadata": {
        "id": "WwmT2DDG2Kwb"
      }
    },
    {
      "cell_type": "code",
      "source": [
        "res2 = pd.DataFrame({'prediction':lr_mae_model_evaluator.y_test_predicted.ravel(), \n",
        "                     'version':'MAE',\n",
        "                     'y_test':y_test})"
      ],
      "metadata": {
        "id": "KRIrimL12Kwp"
      },
      "execution_count": 46,
      "outputs": []
    },
    {
      "cell_type": "markdown",
      "source": [
        "## Poisson Regression"
      ],
      "metadata": {
        "id": "at0NcRqxsx53"
      }
    },
    {
      "cell_type": "markdown",
      "source": [
        "**Create and fit regressor**"
      ],
      "metadata": {
        "id": "sX74ExRhns8n"
      }
    },
    {
      "cell_type": "code",
      "source": [
        "from sklearn.linear_model import PoissonRegressor"
      ],
      "metadata": {
        "id": "Vejo3PG1nx4x"
      },
      "execution_count": 47,
      "outputs": []
    },
    {
      "cell_type": "code",
      "source": [
        "# Construct a processor for the Poisson regressor\n",
        "lr_pipeline = Pipeline(steps=[\n",
        "    ('preprocess', full_processor),\n",
        "    ('model', PoissonRegressor(alpha=1e-8, max_iter=1000))\n",
        "])"
      ],
      "metadata": {
        "id": "S5rW-V-2ns8o"
      },
      "execution_count": 48,
      "outputs": []
    },
    {
      "cell_type": "code",
      "source": [
        "# Construct model evaluator\n",
        "poisson_model_evaluator = Model_Evaluator(lr_pipeline, target_scaler, debug)"
      ],
      "metadata": {
        "id": "xACaeUGens8o"
      },
      "execution_count": 49,
      "outputs": []
    },
    {
      "cell_type": "code",
      "source": [
        "# Fit model\n",
        "poisson_model_evaluator.fit(X_train, y_train)"
      ],
      "metadata": {
        "id": "mywbB8OXns8p"
      },
      "execution_count": 50,
      "outputs": []
    },
    {
      "cell_type": "markdown",
      "source": [
        "**Predict results for Training data**"
      ],
      "metadata": {
        "id": "d2QnijM5ns8p"
      }
    },
    {
      "cell_type": "code",
      "source": [
        "# Current throws error, possibly related to sample weights arg\n",
        "#poisson_model_evaluator.score()"
      ],
      "metadata": {
        "id": "1j7K2I2Lns8q"
      },
      "execution_count": 51,
      "outputs": []
    },
    {
      "cell_type": "code",
      "source": [
        "poisson_model_evaluator.predict_training()"
      ],
      "metadata": {
        "colab": {
          "base_uri": "https://localhost:8080/"
        },
        "outputId": "b44d7361-9363-4f15-8939-a078c9d8c1ef",
        "id": "ddevNo3Qns8q"
      },
      "execution_count": 52,
      "outputs": [
        {
          "output_type": "stream",
          "name": "stdout",
          "text": [
            "Mean Squared Error for TRAIN:\t0.6708012779496575.\n",
            "Mean Absolute Error for TRAIN:\t0.6194321317558172.\n"
          ]
        }
      ]
    },
    {
      "cell_type": "markdown",
      "source": [
        "**Predict results for Test data**"
      ],
      "metadata": {
        "id": "cYXyeC15ns8q"
      }
    },
    {
      "cell_type": "code",
      "source": [
        "poisson_model_evaluator.predict_test(X_test, y_test)"
      ],
      "metadata": {
        "colab": {
          "base_uri": "https://localhost:8080/"
        },
        "outputId": "b6b1f23f-7dbb-4c9d-aab4-8ccc65abe6d6",
        "id": "MF1af2IVns8r"
      },
      "execution_count": 53,
      "outputs": [
        {
          "output_type": "stream",
          "name": "stdout",
          "text": [
            "Mean Squared Error for TEST:\t1.1741220806161554.\n",
            "Mean Absolute Error for TEST:\t0.8604124327457061.\n"
          ]
        }
      ]
    },
    {
      "cell_type": "markdown",
      "source": [
        "**Retain results for comparison**"
      ],
      "metadata": {
        "id": "ODpSq0tN2QNf"
      }
    },
    {
      "cell_type": "code",
      "source": [
        "res3 = pd.DataFrame({'prediction':poisson_model_evaluator.y_test_predicted.ravel(), \n",
        "                     'version':'Poisson',\n",
        "                     'y_test':y_test})"
      ],
      "metadata": {
        "id": "fnrVw6AD2QNg"
      },
      "execution_count": 54,
      "outputs": []
    },
    {
      "cell_type": "markdown",
      "source": [
        "# Part IV\n",
        "\n",
        "Boxplot (distribution plot by X) where X is the target, Y is the prediction"
      ],
      "metadata": {
        "id": "89hkNXwZ9Eku"
      }
    },
    {
      "cell_type": "code",
      "source": [
        "res1.head()"
      ],
      "metadata": {
        "colab": {
          "base_uri": "https://localhost:8080/",
          "height": 206
        },
        "id": "6ITgitjh26gp",
        "outputId": "83249c7d-661c-49fb-ca7d-a61849f52812"
      },
      "execution_count": 55,
      "outputs": [
        {
          "output_type": "execute_result",
          "data": {
            "text/plain": [
              "     prediction version  y_test\n",
              "174    4.316406     MSE       4\n",
              "212    2.929688     MSE       5\n",
              "246    3.847656     MSE       5\n",
              "219    3.769531     MSE       5\n",
              "283    4.257812     MSE       4"
            ],
            "text/html": [
              "\n",
              "  <div id=\"df-5626318e-12a6-4326-8258-2df87d654538\">\n",
              "    <div class=\"colab-df-container\">\n",
              "      <div>\n",
              "<style scoped>\n",
              "    .dataframe tbody tr th:only-of-type {\n",
              "        vertical-align: middle;\n",
              "    }\n",
              "\n",
              "    .dataframe tbody tr th {\n",
              "        vertical-align: top;\n",
              "    }\n",
              "\n",
              "    .dataframe thead th {\n",
              "        text-align: right;\n",
              "    }\n",
              "</style>\n",
              "<table border=\"1\" class=\"dataframe\">\n",
              "  <thead>\n",
              "    <tr style=\"text-align: right;\">\n",
              "      <th></th>\n",
              "      <th>prediction</th>\n",
              "      <th>version</th>\n",
              "      <th>y_test</th>\n",
              "    </tr>\n",
              "  </thead>\n",
              "  <tbody>\n",
              "    <tr>\n",
              "      <th>174</th>\n",
              "      <td>4.316406</td>\n",
              "      <td>MSE</td>\n",
              "      <td>4</td>\n",
              "    </tr>\n",
              "    <tr>\n",
              "      <th>212</th>\n",
              "      <td>2.929688</td>\n",
              "      <td>MSE</td>\n",
              "      <td>5</td>\n",
              "    </tr>\n",
              "    <tr>\n",
              "      <th>246</th>\n",
              "      <td>3.847656</td>\n",
              "      <td>MSE</td>\n",
              "      <td>5</td>\n",
              "    </tr>\n",
              "    <tr>\n",
              "      <th>219</th>\n",
              "      <td>3.769531</td>\n",
              "      <td>MSE</td>\n",
              "      <td>5</td>\n",
              "    </tr>\n",
              "    <tr>\n",
              "      <th>283</th>\n",
              "      <td>4.257812</td>\n",
              "      <td>MSE</td>\n",
              "      <td>4</td>\n",
              "    </tr>\n",
              "  </tbody>\n",
              "</table>\n",
              "</div>\n",
              "      <button class=\"colab-df-convert\" onclick=\"convertToInteractive('df-5626318e-12a6-4326-8258-2df87d654538')\"\n",
              "              title=\"Convert this dataframe to an interactive table.\"\n",
              "              style=\"display:none;\">\n",
              "        \n",
              "  <svg xmlns=\"http://www.w3.org/2000/svg\" height=\"24px\"viewBox=\"0 0 24 24\"\n",
              "       width=\"24px\">\n",
              "    <path d=\"M0 0h24v24H0V0z\" fill=\"none\"/>\n",
              "    <path d=\"M18.56 5.44l.94 2.06.94-2.06 2.06-.94-2.06-.94-.94-2.06-.94 2.06-2.06.94zm-11 1L8.5 8.5l.94-2.06 2.06-.94-2.06-.94L8.5 2.5l-.94 2.06-2.06.94zm10 10l.94 2.06.94-2.06 2.06-.94-2.06-.94-.94-2.06-.94 2.06-2.06.94z\"/><path d=\"M17.41 7.96l-1.37-1.37c-.4-.4-.92-.59-1.43-.59-.52 0-1.04.2-1.43.59L10.3 9.45l-7.72 7.72c-.78.78-.78 2.05 0 2.83L4 21.41c.39.39.9.59 1.41.59.51 0 1.02-.2 1.41-.59l7.78-7.78 2.81-2.81c.8-.78.8-2.07 0-2.86zM5.41 20L4 18.59l7.72-7.72 1.47 1.35L5.41 20z\"/>\n",
              "  </svg>\n",
              "      </button>\n",
              "      \n",
              "  <style>\n",
              "    .colab-df-container {\n",
              "      display:flex;\n",
              "      flex-wrap:wrap;\n",
              "      gap: 12px;\n",
              "    }\n",
              "\n",
              "    .colab-df-convert {\n",
              "      background-color: #E8F0FE;\n",
              "      border: none;\n",
              "      border-radius: 50%;\n",
              "      cursor: pointer;\n",
              "      display: none;\n",
              "      fill: #1967D2;\n",
              "      height: 32px;\n",
              "      padding: 0 0 0 0;\n",
              "      width: 32px;\n",
              "    }\n",
              "\n",
              "    .colab-df-convert:hover {\n",
              "      background-color: #E2EBFA;\n",
              "      box-shadow: 0px 1px 2px rgba(60, 64, 67, 0.3), 0px 1px 3px 1px rgba(60, 64, 67, 0.15);\n",
              "      fill: #174EA6;\n",
              "    }\n",
              "\n",
              "    [theme=dark] .colab-df-convert {\n",
              "      background-color: #3B4455;\n",
              "      fill: #D2E3FC;\n",
              "    }\n",
              "\n",
              "    [theme=dark] .colab-df-convert:hover {\n",
              "      background-color: #434B5C;\n",
              "      box-shadow: 0px 1px 3px 1px rgba(0, 0, 0, 0.15);\n",
              "      filter: drop-shadow(0px 1px 2px rgba(0, 0, 0, 0.3));\n",
              "      fill: #FFFFFF;\n",
              "    }\n",
              "  </style>\n",
              "\n",
              "      <script>\n",
              "        const buttonEl =\n",
              "          document.querySelector('#df-5626318e-12a6-4326-8258-2df87d654538 button.colab-df-convert');\n",
              "        buttonEl.style.display =\n",
              "          google.colab.kernel.accessAllowed ? 'block' : 'none';\n",
              "\n",
              "        async function convertToInteractive(key) {\n",
              "          const element = document.querySelector('#df-5626318e-12a6-4326-8258-2df87d654538');\n",
              "          const dataTable =\n",
              "            await google.colab.kernel.invokeFunction('convertToInteractive',\n",
              "                                                     [key], {});\n",
              "          if (!dataTable) return;\n",
              "\n",
              "          const docLinkHtml = 'Like what you see? Visit the ' +\n",
              "            '<a target=\"_blank\" href=https://colab.research.google.com/notebooks/data_table.ipynb>data table notebook</a>'\n",
              "            + ' to learn more about interactive tables.';\n",
              "          element.innerHTML = '';\n",
              "          dataTable['output_type'] = 'display_data';\n",
              "          await google.colab.output.renderOutput(dataTable, element);\n",
              "          const docLink = document.createElement('div');\n",
              "          docLink.innerHTML = docLinkHtml;\n",
              "          element.appendChild(docLink);\n",
              "        }\n",
              "      </script>\n",
              "    </div>\n",
              "  </div>\n",
              "  "
            ]
          },
          "metadata": {},
          "execution_count": 55
        }
      ]
    },
    {
      "cell_type": "code",
      "source": [
        "res2.head()"
      ],
      "metadata": {
        "colab": {
          "base_uri": "https://localhost:8080/",
          "height": 206
        },
        "id": "VbBYND5_27tW",
        "outputId": "31ed83c8-f2ea-4c51-fd31-acedb3e3a657"
      },
      "execution_count": 56,
      "outputs": [
        {
          "output_type": "execute_result",
          "data": {
            "text/plain": [
              "     prediction version  y_test\n",
              "174    4.509482     MAE       4\n",
              "212    3.037306     MAE       5\n",
              "246    4.201396     MAE       5\n",
              "219    4.287540     MAE       5\n",
              "283    4.308254     MAE       4"
            ],
            "text/html": [
              "\n",
              "  <div id=\"df-fb91b0a8-0d97-460b-a205-66df123e4037\">\n",
              "    <div class=\"colab-df-container\">\n",
              "      <div>\n",
              "<style scoped>\n",
              "    .dataframe tbody tr th:only-of-type {\n",
              "        vertical-align: middle;\n",
              "    }\n",
              "\n",
              "    .dataframe tbody tr th {\n",
              "        vertical-align: top;\n",
              "    }\n",
              "\n",
              "    .dataframe thead th {\n",
              "        text-align: right;\n",
              "    }\n",
              "</style>\n",
              "<table border=\"1\" class=\"dataframe\">\n",
              "  <thead>\n",
              "    <tr style=\"text-align: right;\">\n",
              "      <th></th>\n",
              "      <th>prediction</th>\n",
              "      <th>version</th>\n",
              "      <th>y_test</th>\n",
              "    </tr>\n",
              "  </thead>\n",
              "  <tbody>\n",
              "    <tr>\n",
              "      <th>174</th>\n",
              "      <td>4.509482</td>\n",
              "      <td>MAE</td>\n",
              "      <td>4</td>\n",
              "    </tr>\n",
              "    <tr>\n",
              "      <th>212</th>\n",
              "      <td>3.037306</td>\n",
              "      <td>MAE</td>\n",
              "      <td>5</td>\n",
              "    </tr>\n",
              "    <tr>\n",
              "      <th>246</th>\n",
              "      <td>4.201396</td>\n",
              "      <td>MAE</td>\n",
              "      <td>5</td>\n",
              "    </tr>\n",
              "    <tr>\n",
              "      <th>219</th>\n",
              "      <td>4.287540</td>\n",
              "      <td>MAE</td>\n",
              "      <td>5</td>\n",
              "    </tr>\n",
              "    <tr>\n",
              "      <th>283</th>\n",
              "      <td>4.308254</td>\n",
              "      <td>MAE</td>\n",
              "      <td>4</td>\n",
              "    </tr>\n",
              "  </tbody>\n",
              "</table>\n",
              "</div>\n",
              "      <button class=\"colab-df-convert\" onclick=\"convertToInteractive('df-fb91b0a8-0d97-460b-a205-66df123e4037')\"\n",
              "              title=\"Convert this dataframe to an interactive table.\"\n",
              "              style=\"display:none;\">\n",
              "        \n",
              "  <svg xmlns=\"http://www.w3.org/2000/svg\" height=\"24px\"viewBox=\"0 0 24 24\"\n",
              "       width=\"24px\">\n",
              "    <path d=\"M0 0h24v24H0V0z\" fill=\"none\"/>\n",
              "    <path d=\"M18.56 5.44l.94 2.06.94-2.06 2.06-.94-2.06-.94-.94-2.06-.94 2.06-2.06.94zm-11 1L8.5 8.5l.94-2.06 2.06-.94-2.06-.94L8.5 2.5l-.94 2.06-2.06.94zm10 10l.94 2.06.94-2.06 2.06-.94-2.06-.94-.94-2.06-.94 2.06-2.06.94z\"/><path d=\"M17.41 7.96l-1.37-1.37c-.4-.4-.92-.59-1.43-.59-.52 0-1.04.2-1.43.59L10.3 9.45l-7.72 7.72c-.78.78-.78 2.05 0 2.83L4 21.41c.39.39.9.59 1.41.59.51 0 1.02-.2 1.41-.59l7.78-7.78 2.81-2.81c.8-.78.8-2.07 0-2.86zM5.41 20L4 18.59l7.72-7.72 1.47 1.35L5.41 20z\"/>\n",
              "  </svg>\n",
              "      </button>\n",
              "      \n",
              "  <style>\n",
              "    .colab-df-container {\n",
              "      display:flex;\n",
              "      flex-wrap:wrap;\n",
              "      gap: 12px;\n",
              "    }\n",
              "\n",
              "    .colab-df-convert {\n",
              "      background-color: #E8F0FE;\n",
              "      border: none;\n",
              "      border-radius: 50%;\n",
              "      cursor: pointer;\n",
              "      display: none;\n",
              "      fill: #1967D2;\n",
              "      height: 32px;\n",
              "      padding: 0 0 0 0;\n",
              "      width: 32px;\n",
              "    }\n",
              "\n",
              "    .colab-df-convert:hover {\n",
              "      background-color: #E2EBFA;\n",
              "      box-shadow: 0px 1px 2px rgba(60, 64, 67, 0.3), 0px 1px 3px 1px rgba(60, 64, 67, 0.15);\n",
              "      fill: #174EA6;\n",
              "    }\n",
              "\n",
              "    [theme=dark] .colab-df-convert {\n",
              "      background-color: #3B4455;\n",
              "      fill: #D2E3FC;\n",
              "    }\n",
              "\n",
              "    [theme=dark] .colab-df-convert:hover {\n",
              "      background-color: #434B5C;\n",
              "      box-shadow: 0px 1px 3px 1px rgba(0, 0, 0, 0.15);\n",
              "      filter: drop-shadow(0px 1px 2px rgba(0, 0, 0, 0.3));\n",
              "      fill: #FFFFFF;\n",
              "    }\n",
              "  </style>\n",
              "\n",
              "      <script>\n",
              "        const buttonEl =\n",
              "          document.querySelector('#df-fb91b0a8-0d97-460b-a205-66df123e4037 button.colab-df-convert');\n",
              "        buttonEl.style.display =\n",
              "          google.colab.kernel.accessAllowed ? 'block' : 'none';\n",
              "\n",
              "        async function convertToInteractive(key) {\n",
              "          const element = document.querySelector('#df-fb91b0a8-0d97-460b-a205-66df123e4037');\n",
              "          const dataTable =\n",
              "            await google.colab.kernel.invokeFunction('convertToInteractive',\n",
              "                                                     [key], {});\n",
              "          if (!dataTable) return;\n",
              "\n",
              "          const docLinkHtml = 'Like what you see? Visit the ' +\n",
              "            '<a target=\"_blank\" href=https://colab.research.google.com/notebooks/data_table.ipynb>data table notebook</a>'\n",
              "            + ' to learn more about interactive tables.';\n",
              "          element.innerHTML = '';\n",
              "          dataTable['output_type'] = 'display_data';\n",
              "          await google.colab.output.renderOutput(dataTable, element);\n",
              "          const docLink = document.createElement('div');\n",
              "          docLink.innerHTML = docLinkHtml;\n",
              "          element.appendChild(docLink);\n",
              "        }\n",
              "      </script>\n",
              "    </div>\n",
              "  </div>\n",
              "  "
            ]
          },
          "metadata": {},
          "execution_count": 56
        }
      ]
    },
    {
      "cell_type": "code",
      "source": [
        "res3.head()"
      ],
      "metadata": {
        "colab": {
          "base_uri": "https://localhost:8080/",
          "height": 206
        },
        "id": "q7O9M_J1272Y",
        "outputId": "872b9999-c11a-46a5-f98f-40281f92b44c"
      },
      "execution_count": 57,
      "outputs": [
        {
          "output_type": "execute_result",
          "data": {
            "text/plain": [
              "     prediction  version  y_test\n",
              "174    4.293633  Poisson       4\n",
              "212    2.851575  Poisson       5\n",
              "246    3.871344  Poisson       5\n",
              "219    3.767031  Poisson       5\n",
              "283    4.203020  Poisson       4"
            ],
            "text/html": [
              "\n",
              "  <div id=\"df-8da09d58-099c-406f-a380-93d01e7af720\">\n",
              "    <div class=\"colab-df-container\">\n",
              "      <div>\n",
              "<style scoped>\n",
              "    .dataframe tbody tr th:only-of-type {\n",
              "        vertical-align: middle;\n",
              "    }\n",
              "\n",
              "    .dataframe tbody tr th {\n",
              "        vertical-align: top;\n",
              "    }\n",
              "\n",
              "    .dataframe thead th {\n",
              "        text-align: right;\n",
              "    }\n",
              "</style>\n",
              "<table border=\"1\" class=\"dataframe\">\n",
              "  <thead>\n",
              "    <tr style=\"text-align: right;\">\n",
              "      <th></th>\n",
              "      <th>prediction</th>\n",
              "      <th>version</th>\n",
              "      <th>y_test</th>\n",
              "    </tr>\n",
              "  </thead>\n",
              "  <tbody>\n",
              "    <tr>\n",
              "      <th>174</th>\n",
              "      <td>4.293633</td>\n",
              "      <td>Poisson</td>\n",
              "      <td>4</td>\n",
              "    </tr>\n",
              "    <tr>\n",
              "      <th>212</th>\n",
              "      <td>2.851575</td>\n",
              "      <td>Poisson</td>\n",
              "      <td>5</td>\n",
              "    </tr>\n",
              "    <tr>\n",
              "      <th>246</th>\n",
              "      <td>3.871344</td>\n",
              "      <td>Poisson</td>\n",
              "      <td>5</td>\n",
              "    </tr>\n",
              "    <tr>\n",
              "      <th>219</th>\n",
              "      <td>3.767031</td>\n",
              "      <td>Poisson</td>\n",
              "      <td>5</td>\n",
              "    </tr>\n",
              "    <tr>\n",
              "      <th>283</th>\n",
              "      <td>4.203020</td>\n",
              "      <td>Poisson</td>\n",
              "      <td>4</td>\n",
              "    </tr>\n",
              "  </tbody>\n",
              "</table>\n",
              "</div>\n",
              "      <button class=\"colab-df-convert\" onclick=\"convertToInteractive('df-8da09d58-099c-406f-a380-93d01e7af720')\"\n",
              "              title=\"Convert this dataframe to an interactive table.\"\n",
              "              style=\"display:none;\">\n",
              "        \n",
              "  <svg xmlns=\"http://www.w3.org/2000/svg\" height=\"24px\"viewBox=\"0 0 24 24\"\n",
              "       width=\"24px\">\n",
              "    <path d=\"M0 0h24v24H0V0z\" fill=\"none\"/>\n",
              "    <path d=\"M18.56 5.44l.94 2.06.94-2.06 2.06-.94-2.06-.94-.94-2.06-.94 2.06-2.06.94zm-11 1L8.5 8.5l.94-2.06 2.06-.94-2.06-.94L8.5 2.5l-.94 2.06-2.06.94zm10 10l.94 2.06.94-2.06 2.06-.94-2.06-.94-.94-2.06-.94 2.06-2.06.94z\"/><path d=\"M17.41 7.96l-1.37-1.37c-.4-.4-.92-.59-1.43-.59-.52 0-1.04.2-1.43.59L10.3 9.45l-7.72 7.72c-.78.78-.78 2.05 0 2.83L4 21.41c.39.39.9.59 1.41.59.51 0 1.02-.2 1.41-.59l7.78-7.78 2.81-2.81c.8-.78.8-2.07 0-2.86zM5.41 20L4 18.59l7.72-7.72 1.47 1.35L5.41 20z\"/>\n",
              "  </svg>\n",
              "      </button>\n",
              "      \n",
              "  <style>\n",
              "    .colab-df-container {\n",
              "      display:flex;\n",
              "      flex-wrap:wrap;\n",
              "      gap: 12px;\n",
              "    }\n",
              "\n",
              "    .colab-df-convert {\n",
              "      background-color: #E8F0FE;\n",
              "      border: none;\n",
              "      border-radius: 50%;\n",
              "      cursor: pointer;\n",
              "      display: none;\n",
              "      fill: #1967D2;\n",
              "      height: 32px;\n",
              "      padding: 0 0 0 0;\n",
              "      width: 32px;\n",
              "    }\n",
              "\n",
              "    .colab-df-convert:hover {\n",
              "      background-color: #E2EBFA;\n",
              "      box-shadow: 0px 1px 2px rgba(60, 64, 67, 0.3), 0px 1px 3px 1px rgba(60, 64, 67, 0.15);\n",
              "      fill: #174EA6;\n",
              "    }\n",
              "\n",
              "    [theme=dark] .colab-df-convert {\n",
              "      background-color: #3B4455;\n",
              "      fill: #D2E3FC;\n",
              "    }\n",
              "\n",
              "    [theme=dark] .colab-df-convert:hover {\n",
              "      background-color: #434B5C;\n",
              "      box-shadow: 0px 1px 3px 1px rgba(0, 0, 0, 0.15);\n",
              "      filter: drop-shadow(0px 1px 2px rgba(0, 0, 0, 0.3));\n",
              "      fill: #FFFFFF;\n",
              "    }\n",
              "  </style>\n",
              "\n",
              "      <script>\n",
              "        const buttonEl =\n",
              "          document.querySelector('#df-8da09d58-099c-406f-a380-93d01e7af720 button.colab-df-convert');\n",
              "        buttonEl.style.display =\n",
              "          google.colab.kernel.accessAllowed ? 'block' : 'none';\n",
              "\n",
              "        async function convertToInteractive(key) {\n",
              "          const element = document.querySelector('#df-8da09d58-099c-406f-a380-93d01e7af720');\n",
              "          const dataTable =\n",
              "            await google.colab.kernel.invokeFunction('convertToInteractive',\n",
              "                                                     [key], {});\n",
              "          if (!dataTable) return;\n",
              "\n",
              "          const docLinkHtml = 'Like what you see? Visit the ' +\n",
              "            '<a target=\"_blank\" href=https://colab.research.google.com/notebooks/data_table.ipynb>data table notebook</a>'\n",
              "            + ' to learn more about interactive tables.';\n",
              "          element.innerHTML = '';\n",
              "          dataTable['output_type'] = 'display_data';\n",
              "          await google.colab.output.renderOutput(dataTable, element);\n",
              "          const docLink = document.createElement('div');\n",
              "          docLink.innerHTML = docLinkHtml;\n",
              "          element.appendChild(docLink);\n",
              "        }\n",
              "      </script>\n",
              "    </div>\n",
              "  </div>\n",
              "  "
            ]
          },
          "metadata": {},
          "execution_count": 57
        }
      ]
    },
    {
      "cell_type": "code",
      "source": [
        "results = pd.concat([res1, res2, res3])"
      ],
      "metadata": {
        "id": "DK31cDP79TGg"
      },
      "execution_count": 58,
      "outputs": []
    },
    {
      "cell_type": "code",
      "source": [
        "sns.set(rc = {'figure.figsize':(15,10)})\n",
        "sns.boxplot(x='y_test', y='prediction', data=results, hue='version', showfliers=False)\n",
        "plt.title('Comparison of Score Predictions across Linear Regressors', fontsize=20)\n",
        "plt.show()"
      ],
      "metadata": {
        "colab": {
          "base_uri": "https://localhost:8080/",
          "height": 632
        },
        "id": "EU1_-vyo-JH7",
        "outputId": "7fad8c13-ad68-4124-8beb-766e0763a504"
      },
      "execution_count": 59,
      "outputs": [
        {
          "output_type": "display_data",
          "data": {
            "text/plain": [
              "<Figure size 1080x720 with 1 Axes>"
            ],
            "image/png": "[encoded data removed]"
          },
          "metadata": {}
        }
      ]
    },
    {
      "cell_type": "markdown",
      "source": [
        "**Try a different comparison of the regressions**\n",
        "\n",
        "Just for an alternate visualization."
      ],
      "metadata": {
        "id": "-utFNE8J-XlW"
      }
    },
    {
      "cell_type": "code",
      "source": [
        "df_y = pd.DataFrame({'Y_test': y_test, \n",
        "                   'L-mse': lr_mse_model_evaluator.y_test_predicted.ravel(),\n",
        "                   'L-mae': lr_mae_model_evaluator.y_test_predicted.ravel(),\n",
        "                   'Poisson': poisson_model_evaluator.y_test_predicted,\n",
        "                   })\n",
        "\n",
        "sns.set(rc = {'figure.figsize':(15,10)})\n",
        "sns.boxplot(x=\"variable\", y=\"value\", data=pd.melt(df_y), showfliers=False)\n",
        "plt.title('Aggregated Comparison of Predictions', fontsize=20)\n",
        "plt.ylabel('Scores')\n",
        "plt.show()"
      ],
      "metadata": {
        "colab": {
          "base_uri": "https://localhost:8080/",
          "height": 633
        },
        "outputId": "322bdf19-d444-45a6-8438-f7e1e8804868",
        "id": "nkH0PFzGAcZH"
      },
      "execution_count": 60,
      "outputs": [
        {
          "output_type": "display_data",
          "data": {
            "text/plain": [
              "<Figure size 1080x720 with 1 Axes>"
            ],
            "image/png": "[encoded data removed]"
          },
          "metadata": {}
        }
      ]
    },
    {
      "cell_type": "markdown",
      "source": [
        "## Conclusion\n",
        "\n",
        "As we can see, none of the regression algorithms - MSE, MAE, Poisson - has done a very good job at predicting scores across the full range of values - they tend towards results centering around the mean values.\n",
        "\n",
        "Overall the predicted values appear to display a low variance. Given a high bias this would indicate that the models are underfitted to the training data."
      ],
      "metadata": {
        "id": "pChmcA5hCqwn"
      }
    }
  ]
}